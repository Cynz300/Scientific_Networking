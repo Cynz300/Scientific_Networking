{
 "cells": [
  {
   "cell_type": "markdown",
   "id": "d92d9ae5",
   "metadata": {},
   "source": [
    "Spark Approach"
   ]
  },
  {
   "cell_type": "code",
   "execution_count": null,
   "id": "2c550d78",
   "metadata": {},
   "outputs": [],
   "source": [
    "# import pyspark as ps\n",
    "# spark = (ps.sql.SparkSession.builder \n",
    "#         .master(\"local[4]\") \n",
    "#         .appName(\"sparkSQL exercise\")\n",
    "#         .config(\"spark.sql.caseSensitive\", \"true\")\n",
    "#         .getOrCreate()\n",
    "#         )\n",
    "# sc = spark.sparkContext\n",
    "\n",
    "# peer = spark.read.json('new.json')\n",
    "\n",
    "# peer.printSchema()\n",
    "\n",
    "# peer.createOrReplaceTempView(\"peer\")\n",
    "\n",
    "# result = spark.sql(\"\"\"SELECT lang, COUNT(lang)\n",
    "#             FROM peer \n",
    "#             GROUP BY lang\n",
    "#             \"\"\")\n",
    "\n",
    "# result.show()"
   ]
  },
  {
   "cell_type": "markdown",
   "id": "be11f833",
   "metadata": {},
   "source": [
    "Pandas Approach with Manual Approach"
   ]
  },
  {
   "cell_type": "code",
   "execution_count": 1,
   "id": "e90b7ff0",
   "metadata": {},
   "outputs": [
    {
     "name": "stderr",
     "output_type": "stream",
     "text": [
      "100002it [00:03, 25268.30it/s]\n"
     ]
    }
   ],
   "source": [
    "import json\n",
    "from tqdm import tqdm # google this\n",
    "journals = []\n",
    "idx = 0\n",
    "\n",
    "with open('dblpv13.json',\"r\") as fp:\n",
    "     for line in tqdm(fp):\n",
    "        if idx > 100000: \n",
    "            break\n",
    "        try:\n",
    "            if len(line) < 3:\n",
    "                continue\n",
    "            strip_line = line.strip(',')\n",
    "            journals.append(json.loads(strip_line))\n",
    "            idx += 1\n",
    "        except:\n",
    "            print('fail')\n",
    "            try:\n",
    "                strip_line = line.strip(',')\n",
    "                journals.append(json.loads(strip_line))\n",
    "                idx += 1\n",
    "            except:\n",
    "                idx += 1\n",
    "                pass"
   ]
  },
  {
   "cell_type": "code",
   "execution_count": 2,
   "id": "fce62a2d",
   "metadata": {},
   "outputs": [],
   "source": [
    "import pandas as pd\n",
    "journal_df = pd.DataFrame(journals, columns = journals[0].keys())"
   ]
  },
  {
   "cell_type": "code",
   "execution_count": 3,
   "id": "782ab195",
   "metadata": {},
   "outputs": [
    {
     "data": {
      "text/html": [
       "<div>\n",
       "<style scoped>\n",
       "    .dataframe tbody tr th:only-of-type {\n",
       "        vertical-align: middle;\n",
       "    }\n",
       "\n",
       "    .dataframe tbody tr th {\n",
       "        vertical-align: top;\n",
       "    }\n",
       "\n",
       "    .dataframe thead th {\n",
       "        text-align: right;\n",
       "    }\n",
       "</style>\n",
       "<table border=\"1\" class=\"dataframe\">\n",
       "  <thead>\n",
       "    <tr style=\"text-align: right;\">\n",
       "      <th></th>\n",
       "      <th>year</th>\n",
       "      <th>_id</th>\n",
       "    </tr>\n",
       "  </thead>\n",
       "  <tbody>\n",
       "    <tr>\n",
       "      <th>count</th>\n",
       "      <td>114.000000</td>\n",
       "      <td>114.000000</td>\n",
       "    </tr>\n",
       "    <tr>\n",
       "      <th>mean</th>\n",
       "      <td>1944.736842</td>\n",
       "      <td>877.192982</td>\n",
       "    </tr>\n",
       "    <tr>\n",
       "      <th>std</th>\n",
       "      <td>186.951844</td>\n",
       "      <td>1693.478741</td>\n",
       "    </tr>\n",
       "    <tr>\n",
       "      <th>min</th>\n",
       "      <td>0.000000</td>\n",
       "      <td>1.000000</td>\n",
       "    </tr>\n",
       "    <tr>\n",
       "      <th>25%</th>\n",
       "      <td>1934.250000</td>\n",
       "      <td>4.000000</td>\n",
       "    </tr>\n",
       "    <tr>\n",
       "      <th>50%</th>\n",
       "      <td>1962.500000</td>\n",
       "      <td>58.500000</td>\n",
       "    </tr>\n",
       "    <tr>\n",
       "      <th>75%</th>\n",
       "      <td>1990.750000</td>\n",
       "      <td>706.500000</td>\n",
       "    </tr>\n",
       "    <tr>\n",
       "      <th>max</th>\n",
       "      <td>2019.000000</td>\n",
       "      <td>7052.000000</td>\n",
       "    </tr>\n",
       "  </tbody>\n",
       "</table>\n",
       "</div>"
      ],
      "text/plain": [
       "              year          _id\n",
       "count   114.000000   114.000000\n",
       "mean   1944.736842   877.192982\n",
       "std     186.951844  1693.478741\n",
       "min       0.000000     1.000000\n",
       "25%    1934.250000     4.000000\n",
       "50%    1962.500000    58.500000\n",
       "75%    1990.750000   706.500000\n",
       "max    2019.000000  7052.000000"
      ]
     },
     "execution_count": 3,
     "metadata": {},
     "output_type": "execute_result"
    }
   ],
   "source": [
    "releases_year = journal_df[['year', '_id']].groupby('year').count().reset_index()\n",
    "# releases_year = releases_year.drop(index = [0, 1, 120])\n",
    "releases_year.describe()"
   ]
  },
  {
   "cell_type": "code",
   "execution_count": 4,
   "id": "636adea0",
   "metadata": {},
   "outputs": [],
   "source": [
    "releases_year = releases_year[(releases_year['year'] > 1500) & (releases_year['year'] < 2022)]"
   ]
  },
  {
   "cell_type": "code",
   "execution_count": 5,
   "id": "810e3f36",
   "metadata": {},
   "outputs": [
    {
     "data": {
      "text/plain": [
       "Text(0, 0.5, 'Frequency')"
      ]
     },
     "execution_count": 5,
     "metadata": {},
     "output_type": "execute_result"
    },
    {
     "data": {
      "image/png": "[encoded data removed]",
      "text/plain": [
       "<Figure size 432x288 with 1 Axes>"
      ]
     },
     "metadata": {
      "needs_background": "light"
     },
     "output_type": "display_data"
    }
   ],
   "source": [
    "import matplotlib.pyplot as plt\n",
    "\n",
    "plt.plot(releases_year.iloc[:, 0], releases_year.iloc[:,1])\n",
    "plt.title(\"Number of Articles Released Annually\")\n",
    "plt.xlabel(\"Year\")\n",
    "plt.ylabel(\"Frequency\")\n",
    "# plt.savefig('img/annual_article_release.png')"
   ]
  },
  {
   "cell_type": "code",
   "execution_count": 6,
   "id": "a966a524",
   "metadata": {},
   "outputs": [
    {
     "data": {
      "text/plain": [
       "Text(0, 0.5, 'Frequency')"
      ]
     },
     "execution_count": 6,
     "metadata": {},
     "output_type": "execute_result"
    },
    {
     "data": {
      "image/png": "[encoded data removed]",
      "text/plain": [
       "<Figure size 432x288 with 1 Axes>"
      ]
     },
     "metadata": {
      "needs_background": "light"
     },
     "output_type": "display_data"
    }
   ],
   "source": [
    "plt.plot(releases_year.iloc[:, 0], releases_year.iloc[:,1])\n",
    "plt.title(\"Number of Articles Released Annually (1980 - 2013)\")\n",
    "plt.xlim(1980, 2020)\n",
    "plt.xlabel(\"Year\")\n",
    "plt.ylabel(\"Frequency\")\n",
    "# plt.savefig('img/annual_article_release_1980-2013.png')"
   ]
  },
  {
   "cell_type": "code",
   "execution_count": 7,
   "id": "44fa6d02",
   "metadata": {},
   "outputs": [],
   "source": [
    "test_df = journal_df[(journal_df.year == 0) & (journal_df.n_citation > 10)]"
   ]
  },
  {
   "cell_type": "code",
   "execution_count": 8,
   "id": "4c2d7fa9",
   "metadata": {},
   "outputs": [
    {
     "data": {
      "text/plain": [
       "6915     3\n",
       "10518    1\n",
       "11560    1\n",
       "16047    1\n",
       "18449    2\n",
       "26492    2\n",
       "28524    4\n",
       "31557    3\n",
       "44081    2\n",
       "49824    1\n",
       "53203    4\n",
       "Name: authors, dtype: int64"
      ]
     },
     "execution_count": 8,
     "metadata": {},
     "output_type": "execute_result"
    }
   ],
   "source": [
    "test_df['authors'].str.len()"
   ]
  },
  {
   "cell_type": "code",
   "execution_count": 245,
   "id": "47791b43",
   "metadata": {},
   "outputs": [
    {
     "data": {
      "text/html": [
       "<div>\n",
       "<style scoped>\n",
       "    .dataframe tbody tr th:only-of-type {\n",
       "        vertical-align: middle;\n",
       "    }\n",
       "\n",
       "    .dataframe tbody tr th {\n",
       "        vertical-align: top;\n",
       "    }\n",
       "\n",
       "    .dataframe thead th {\n",
       "        text-align: right;\n",
       "    }\n",
       "</style>\n",
       "<table border=\"1\" class=\"dataframe\">\n",
       "  <thead>\n",
       "    <tr style=\"text-align: right;\">\n",
       "      <th></th>\n",
       "      <th>_id</th>\n",
       "      <th>title</th>\n",
       "      <th>authors</th>\n",
       "      <th>venue</th>\n",
       "      <th>year</th>\n",
       "      <th>keywords</th>\n",
       "      <th>n_citation</th>\n",
       "      <th>page_start</th>\n",
       "      <th>lang</th>\n",
       "      <th>volume</th>\n",
       "      <th>issue</th>\n",
       "      <th>doi</th>\n",
       "      <th>url</th>\n",
       "      <th>abstract</th>\n",
       "    </tr>\n",
       "  </thead>\n",
       "  <tbody>\n",
       "    <tr>\n",
       "      <th>0</th>\n",
       "      <td>{'$oid': '53e99784b7602d9701f3e3f4'}</td>\n",
       "      <td>360degree</td>\n",
       "      <td>[{'_id': {'$oid': '53f46946dabfaec09f24b4ed'},...</td>\n",
       "      <td>{'_id': {'$oid': '53a72b2d20f7420be8c1c5a8'}, ...</td>\n",
       "      <td>2009.0</td>\n",
       "      <td>[]</td>\n",
       "      <td>0.0</td>\n",
       "      <td>39</td>\n",
       "      <td>en</td>\n",
       "      <td></td>\n",
       "      <td></td>\n",
       "      <td>10.1145/1665137.1665166</td>\n",
       "      <td>[http://doi.acm.org/10.1145/1665137.1665166, d...</td>\n",
       "      <td></td>\n",
       "    </tr>\n",
       "    <tr>\n",
       "      <th>1</th>\n",
       "      <td>53e99784b7602d9701f3e3f5</td>\n",
       "      <td>3GIO.</td>\n",
       "      <td>NaN</td>\n",
       "      <td>{'type': 0}</td>\n",
       "      <td>2011.0</td>\n",
       "      <td>[]</td>\n",
       "      <td>0.0</td>\n",
       "      <td>NaN</td>\n",
       "      <td>en</td>\n",
       "      <td>NaN</td>\n",
       "      <td>NaN</td>\n",
       "      <td>NaN</td>\n",
       "      <td>NaN</td>\n",
       "      <td>NaN</td>\n",
       "    </tr>\n",
       "    <tr>\n",
       "      <th>2</th>\n",
       "      <td>53e99784b7602d9701f3e133</td>\n",
       "      <td>The relationship between canopy parameters and...</td>\n",
       "      <td>[{'_id': '53f45728dabfaec09f209538', 'name': '...</td>\n",
       "      <td>{'_id': '53a7297d20f7420be8bd4ae7', 'name_d': ...</td>\n",
       "      <td>2011.0</td>\n",
       "      <td>[canopy parameters, canopy spectrum, different...</td>\n",
       "      <td>0.0</td>\n",
       "      <td>1930</td>\n",
       "      <td>en</td>\n",
       "      <td>null</td>\n",
       "      <td>null</td>\n",
       "      <td>10.1109/IGARSS.2011.6049503</td>\n",
       "      <td>[http://dx.doi.org/10.1109/IGARSS.2011.6049503]</td>\n",
       "      <td>Drought is the first place in all the natural ...</td>\n",
       "    </tr>\n",
       "    <tr>\n",
       "      <th>3</th>\n",
       "      <td>53e99784b7602d9701f3e151</td>\n",
       "      <td>A solution to the problem of touching and brok...</td>\n",
       "      <td>[{'_id': '53f46797dabfaeb22f542630', 'name': '...</td>\n",
       "      <td>{'_id': '53a72a4920f7420be8bfa51b', 'name_d': ...</td>\n",
       "      <td>1993.0</td>\n",
       "      <td>[handwriting recognition, prototypes, image se...</td>\n",
       "      <td>17.0</td>\n",
       "      <td>602</td>\n",
       "      <td>en</td>\n",
       "      <td></td>\n",
       "      <td></td>\n",
       "      <td>10.1109/ICDAR.1993.395663</td>\n",
       "      <td>[http://dx.doi.org/10.1109/ICDAR.1993.395663]</td>\n",
       "      <td></td>\n",
       "    </tr>\n",
       "    <tr>\n",
       "      <th>4</th>\n",
       "      <td>53e99784b7602d9701f3e15d</td>\n",
       "      <td>Timing yield estimation using statistical stat...</td>\n",
       "      <td>[{'_id': '53f43b03dabfaedce555bf2a', 'name': '...</td>\n",
       "      <td>{'_id': '53a72e2020f7420be8c80142', 'name_d': ...</td>\n",
       "      <td>2005.0</td>\n",
       "      <td>[sequential circuits, statistical distribution...</td>\n",
       "      <td>28.0</td>\n",
       "      <td>2461</td>\n",
       "      <td>en</td>\n",
       "      <td></td>\n",
       "      <td></td>\n",
       "      <td>10.1109/ISCAS.2005.1465124</td>\n",
       "      <td>[http://dx.doi.org/10.1109/ISCAS.2005.1465124,...</td>\n",
       "      <td>As process variations become a significant pro...</td>\n",
       "    </tr>\n",
       "    <tr>\n",
       "      <th>...</th>\n",
       "      <td>...</td>\n",
       "      <td>...</td>\n",
       "      <td>...</td>\n",
       "      <td>...</td>\n",
       "      <td>...</td>\n",
       "      <td>...</td>\n",
       "      <td>...</td>\n",
       "      <td>...</td>\n",
       "      <td>...</td>\n",
       "      <td>...</td>\n",
       "      <td>...</td>\n",
       "      <td>...</td>\n",
       "      <td>...</td>\n",
       "      <td>...</td>\n",
       "    </tr>\n",
       "    <tr>\n",
       "      <th>99996</th>\n",
       "      <td>53e998efb7602d9702129fbc</td>\n",
       "      <td>Classification of Human Physical Activities fr...</td>\n",
       "      <td>[{'_id': '53f4cfe1dabfaeedd377d604', 'name': '...</td>\n",
       "      <td>{'sid': 'BIOSIGNALS 2011', 't': 'J', 'raw': 'B...</td>\n",
       "      <td>2011.0</td>\n",
       "      <td>[Human activity classification, Statistical pa...</td>\n",
       "      <td>1.0</td>\n",
       "      <td>201</td>\n",
       "      <td>en</td>\n",
       "      <td></td>\n",
       "      <td></td>\n",
       "      <td></td>\n",
       "      <td>NaN</td>\n",
       "      <td>Several applications demanding the development...</td>\n",
       "    </tr>\n",
       "    <tr>\n",
       "      <th>99997</th>\n",
       "      <td>53e998efb7602d9702129e44</td>\n",
       "      <td>Full body tracking-based human action recognition</td>\n",
       "      <td>[{'_id': '53f4337fdabfaedf435622c3', 'name': '...</td>\n",
       "      <td>{'_id': '555037617cea80f95418423f', 'name_d': ...</td>\n",
       "      <td>2008.0</td>\n",
       "      <td>[particle filter, tracking, hidden markov mode...</td>\n",
       "      <td>12.0</td>\n",
       "      <td>1</td>\n",
       "      <td>en</td>\n",
       "      <td></td>\n",
       "      <td></td>\n",
       "      <td>10.1109/ICPR.2008.4761198</td>\n",
       "      <td>[http://dx.doi.org/10.1109/ICPR.2008.4761198]</td>\n",
       "      <td></td>\n",
       "    </tr>\n",
       "    <tr>\n",
       "      <th>99998</th>\n",
       "      <td>53e998efb7602d9702129fcf</td>\n",
       "      <td>Optical density visualization and abel reconst...</td>\n",
       "      <td>[{'_id': '53f45495dabfaee1c0b265ce', 'name': '...</td>\n",
       "      <td>{'_id': '555036b57cea80f95414abed', 'type': 0,...</td>\n",
       "      <td>2007.0</td>\n",
       "      <td>[optical density, vortex ring]</td>\n",
       "      <td>14.0</td>\n",
       "      <td>5</td>\n",
       "      <td>en</td>\n",
       "      <td>10</td>\n",
       "      <td>1</td>\n",
       "      <td>10.1007/BF03181789</td>\n",
       "      <td>[http://dx.doi.org/10.1007/BF03181789, https:/...</td>\n",
       "      <td></td>\n",
       "    </tr>\n",
       "    <tr>\n",
       "      <th>99999</th>\n",
       "      <td>53e998efb7602d9702129e49</td>\n",
       "      <td>Parallelization and performance of Conjugate G...</td>\n",
       "      <td>[{'_id': '53f46490dabfaeee22a4cc1a', 'name': '...</td>\n",
       "      <td>{'_id': '572df208d39c4f5d7aace19d', 'type': 1,...</td>\n",
       "      <td>1991.0</td>\n",
       "      <td>[conjugate gradient algorithm, cedar hierarchi...</td>\n",
       "      <td>15.0</td>\n",
       "      <td>178</td>\n",
       "      <td>en</td>\n",
       "      <td>26</td>\n",
       "      <td>7</td>\n",
       "      <td>10.1145/109626.109644</td>\n",
       "      <td>[http://dx.doi.org/10.1145/109626.109644, http...</td>\n",
       "      <td>We analyze the computational structure of the ...</td>\n",
       "    </tr>\n",
       "    <tr>\n",
       "      <th>100000</th>\n",
       "      <td>53e998efb7602d9702129c8e</td>\n",
       "      <td>Design issues in multimedia messaging for next...</td>\n",
       "      <td>[{'gid': '5b86b160e1cd8e14a325b465', '_id': '5...</td>\n",
       "      <td>{'_id': '53a725bb20f7420be8b57a1b', 'name_d': ...</td>\n",
       "      <td>2001.0</td>\n",
       "      <td>[two-way text, wireless telecommunication syst...</td>\n",
       "      <td>7.0</td>\n",
       "      <td>98</td>\n",
       "      <td>en</td>\n",
       "      <td></td>\n",
       "      <td></td>\n",
       "      <td>10.1145/376868.376916</td>\n",
       "      <td>[http://dx.doi.org/10.1145/376868.376916, http...</td>\n",
       "      <td>Current wireless systems allow simple messagin...</td>\n",
       "    </tr>\n",
       "  </tbody>\n",
       "</table>\n",
       "<p>99967 rows × 14 columns</p>\n",
       "</div>"
      ],
      "text/plain": [
       "                                         _id  \\\n",
       "0       {'$oid': '53e99784b7602d9701f3e3f4'}   \n",
       "1                   53e99784b7602d9701f3e3f5   \n",
       "2                   53e99784b7602d9701f3e133   \n",
       "3                   53e99784b7602d9701f3e151   \n",
       "4                   53e99784b7602d9701f3e15d   \n",
       "...                                      ...   \n",
       "99996               53e998efb7602d9702129fbc   \n",
       "99997               53e998efb7602d9702129e44   \n",
       "99998               53e998efb7602d9702129fcf   \n",
       "99999               53e998efb7602d9702129e49   \n",
       "100000              53e998efb7602d9702129c8e   \n",
       "\n",
       "                                                    title  \\\n",
       "0                                               360degree   \n",
       "1                                                   3GIO.   \n",
       "2       The relationship between canopy parameters and...   \n",
       "3       A solution to the problem of touching and brok...   \n",
       "4       Timing yield estimation using statistical stat...   \n",
       "...                                                   ...   \n",
       "99996   Classification of Human Physical Activities fr...   \n",
       "99997   Full body tracking-based human action recognition   \n",
       "99998   Optical density visualization and abel reconst...   \n",
       "99999   Parallelization and performance of Conjugate G...   \n",
       "100000  Design issues in multimedia messaging for next...   \n",
       "\n",
       "                                                  authors  \\\n",
       "0       [{'_id': {'$oid': '53f46946dabfaec09f24b4ed'},...   \n",
       "1                                                     NaN   \n",
       "2       [{'_id': '53f45728dabfaec09f209538', 'name': '...   \n",
       "3       [{'_id': '53f46797dabfaeb22f542630', 'name': '...   \n",
       "4       [{'_id': '53f43b03dabfaedce555bf2a', 'name': '...   \n",
       "...                                                   ...   \n",
       "99996   [{'_id': '53f4cfe1dabfaeedd377d604', 'name': '...   \n",
       "99997   [{'_id': '53f4337fdabfaedf435622c3', 'name': '...   \n",
       "99998   [{'_id': '53f45495dabfaee1c0b265ce', 'name': '...   \n",
       "99999   [{'_id': '53f46490dabfaeee22a4cc1a', 'name': '...   \n",
       "100000  [{'gid': '5b86b160e1cd8e14a325b465', '_id': '5...   \n",
       "\n",
       "                                                    venue    year  \\\n",
       "0       {'_id': {'$oid': '53a72b2d20f7420be8c1c5a8'}, ...  2009.0   \n",
       "1                                             {'type': 0}  2011.0   \n",
       "2       {'_id': '53a7297d20f7420be8bd4ae7', 'name_d': ...  2011.0   \n",
       "3       {'_id': '53a72a4920f7420be8bfa51b', 'name_d': ...  1993.0   \n",
       "4       {'_id': '53a72e2020f7420be8c80142', 'name_d': ...  2005.0   \n",
       "...                                                   ...     ...   \n",
       "99996   {'sid': 'BIOSIGNALS 2011', 't': 'J', 'raw': 'B...  2011.0   \n",
       "99997   {'_id': '555037617cea80f95418423f', 'name_d': ...  2008.0   \n",
       "99998   {'_id': '555036b57cea80f95414abed', 'type': 0,...  2007.0   \n",
       "99999   {'_id': '572df208d39c4f5d7aace19d', 'type': 1,...  1991.0   \n",
       "100000  {'_id': '53a725bb20f7420be8b57a1b', 'name_d': ...  2001.0   \n",
       "\n",
       "                                                 keywords  n_citation  \\\n",
       "0                                                      []         0.0   \n",
       "1                                                      []         0.0   \n",
       "2       [canopy parameters, canopy spectrum, different...         0.0   \n",
       "3       [handwriting recognition, prototypes, image se...        17.0   \n",
       "4       [sequential circuits, statistical distribution...        28.0   \n",
       "...                                                   ...         ...   \n",
       "99996   [Human activity classification, Statistical pa...         1.0   \n",
       "99997   [particle filter, tracking, hidden markov mode...        12.0   \n",
       "99998                      [optical density, vortex ring]        14.0   \n",
       "99999   [conjugate gradient algorithm, cedar hierarchi...        15.0   \n",
       "100000  [two-way text, wireless telecommunication syst...         7.0   \n",
       "\n",
       "       page_start lang volume issue                          doi  \\\n",
       "0              39   en                   10.1145/1665137.1665166   \n",
       "1             NaN   en    NaN   NaN                          NaN   \n",
       "2            1930   en   null  null  10.1109/IGARSS.2011.6049503   \n",
       "3             602   en                 10.1109/ICDAR.1993.395663   \n",
       "4            2461   en                10.1109/ISCAS.2005.1465124   \n",
       "...           ...  ...    ...   ...                          ...   \n",
       "99996         201   en                                             \n",
       "99997           1   en                 10.1109/ICPR.2008.4761198   \n",
       "99998           5   en     10     1           10.1007/BF03181789   \n",
       "99999         178   en     26     7        10.1145/109626.109644   \n",
       "100000         98   en                     10.1145/376868.376916   \n",
       "\n",
       "                                                      url  \\\n",
       "0       [http://doi.acm.org/10.1145/1665137.1665166, d...   \n",
       "1                                                     NaN   \n",
       "2         [http://dx.doi.org/10.1109/IGARSS.2011.6049503]   \n",
       "3           [http://dx.doi.org/10.1109/ICDAR.1993.395663]   \n",
       "4       [http://dx.doi.org/10.1109/ISCAS.2005.1465124,...   \n",
       "...                                                   ...   \n",
       "99996                                                 NaN   \n",
       "99997       [http://dx.doi.org/10.1109/ICPR.2008.4761198]   \n",
       "99998   [http://dx.doi.org/10.1007/BF03181789, https:/...   \n",
       "99999   [http://dx.doi.org/10.1145/109626.109644, http...   \n",
       "100000  [http://dx.doi.org/10.1145/376868.376916, http...   \n",
       "\n",
       "                                                 abstract  \n",
       "0                                                          \n",
       "1                                                     NaN  \n",
       "2       Drought is the first place in all the natural ...  \n",
       "3                                                          \n",
       "4       As process variations become a significant pro...  \n",
       "...                                                   ...  \n",
       "99996   Several applications demanding the development...  \n",
       "99997                                                      \n",
       "99998                                                      \n",
       "99999   We analyze the computational structure of the ...  \n",
       "100000  Current wireless systems allow simple messagin...  \n",
       "\n",
       "[99967 rows x 14 columns]"
      ]
     },
     "execution_count": 245,
     "metadata": {},
     "output_type": "execute_result"
    }
   ],
   "source": [
    "filter_journal = journal_df[(journal_df['year'] > 1500) & (journal_df['year'] < 2022)]\n",
    "filter_journal"
   ]
  },
  {
   "cell_type": "code",
   "execution_count": 10,
   "id": "02dda16a",
   "metadata": {},
   "outputs": [
    {
     "data": {
      "text/plain": [
       "(1960.0, 2020.0)"
      ]
     },
     "execution_count": 10,
     "metadata": {},
     "output_type": "execute_result"
    },
    {
     "data": {
      "image/png": "[encoded data removed]",
      "text/plain": [
       "<Figure size 432x288 with 1 Axes>"
      ]
     },
     "metadata": {
      "needs_background": "light"
     },
     "output_type": "display_data"
    }
   ],
   "source": [
    "plt.scatter(filter_journal['year'], filter_journal['n_citation'], alpha = 0.2)\n",
    "plt.ylim(0, 10000)\n",
    "plt.xlim(1960, 2020)"
   ]
  },
  {
   "cell_type": "code",
   "execution_count": 11,
   "id": "b2396a20",
   "metadata": {},
   "outputs": [
    {
     "data": {
      "text/plain": [
       "(array([4.6094e+04, 1.0055e+04, 4.6270e+03, 2.7860e+03, 1.7620e+03,\n",
       "        1.2830e+03, 9.0300e+02, 6.6800e+02, 5.7200e+02, 4.7900e+02,\n",
       "        3.7900e+02, 3.1400e+02, 2.4400e+02, 2.2000e+02, 2.0700e+02,\n",
       "        1.7500e+02, 1.5800e+02, 1.3800e+02, 1.1800e+02, 9.9000e+01,\n",
       "        1.0100e+02, 8.6000e+01, 8.4000e+01, 7.9000e+01, 6.6000e+01,\n",
       "        6.5000e+01, 4.4000e+01, 5.0000e+01, 5.4000e+01, 3.8000e+01,\n",
       "        3.2000e+01, 4.2000e+01, 3.9000e+01, 3.4000e+01, 2.7000e+01,\n",
       "        2.5000e+01, 2.7000e+01, 1.8000e+01, 3.3000e+01, 1.8000e+01,\n",
       "        1.9000e+01, 1.9000e+01, 2.7000e+01, 2.9000e+01, 2.2000e+01,\n",
       "        1.8000e+01, 1.6000e+01, 1.4000e+01, 9.0000e+00, 1.1000e+01]),\n",
       " array([  1.  ,  20.96,  40.92,  60.88,  80.84, 100.8 , 120.76, 140.72,\n",
       "        160.68, 180.64, 200.6 , 220.56, 240.52, 260.48, 280.44, 300.4 ,\n",
       "        320.36, 340.32, 360.28, 380.24, 400.2 , 420.16, 440.12, 460.08,\n",
       "        480.04, 500.  , 519.96, 539.92, 559.88, 579.84, 599.8 , 619.76,\n",
       "        639.72, 659.68, 679.64, 699.6 , 719.56, 739.52, 759.48, 779.44,\n",
       "        799.4 , 819.36, 839.32, 859.28, 879.24, 899.2 , 919.16, 939.12,\n",
       "        959.08, 979.04, 999.  ]),\n",
       " <BarContainer object of 50 artists>)"
      ]
     },
     "execution_count": 11,
     "metadata": {},
     "output_type": "execute_result"
    },
    {
     "data": {
      "image/png": "[encoded data removed]",
      "text/plain": [
       "<Figure size 432x288 with 1 Axes>"
      ]
     },
     "metadata": {
      "needs_background": "light"
     },
     "output_type": "display_data"
    }
   ],
   "source": [
    "filter_journal_citations = filter_journal[filter_journal['n_citation'] > 0]\n",
    "sub_1000 = filter_journal_citations[filter_journal_citations['n_citation'] < 1000]\n",
    "plt.hist(sub_1000['n_citation'], bins = 50)"
   ]
  },
  {
   "cell_type": "code",
   "execution_count": 12,
   "id": "ee702274",
   "metadata": {},
   "outputs": [
    {
     "name": "stdout",
     "output_type": "stream",
     "text": [
      "Out of 99967 entries where release year was noted between 1500 and 2020, \n",
      "73044 had 1 or more citations. ~ 73.1% had been cited more than once.\n",
      "617 had been cited more than 1000 times equating to roughly 0.84%.\n",
      "There are 56326 with keywords notated, roughly 22.23% have no keywords\n"
     ]
    }
   ],
   "source": [
    "#Out of 99967 entries - where year provided was between 1500 and 2020 (0.03% removal)\n",
    "#73044 had 1 or more citations. ~ 73% had been cited more than once.\n",
    "#0.8% of those entries had been cited more than 1000 times\n",
    "\n",
    "total = len(filter_journal)\n",
    "cit_1 = len(filter_journal_citations)\n",
    "sub = len(sub_1000)\n",
    "\n",
    "keywords = len(sub_1000[sub_1000['keywords'].str.len() > 0])\n",
    "\n",
    "print(f'''Out of {total} entries where release year was noted between 1500 and 2020, \n",
    "{cit_1} had 1 or more citations. ~ {round(cit_1/total*100,1)}% had been cited more than once.\n",
    "{cit_1-sub} had been cited more than 1000 times equating to roughly {round((cit_1-sub)/cit_1*100,2)}%.\n",
    "There are {round(keywords,2)} with keywords notated, roughly {round((sub - keywords)/sub * 100,2)}% have no keywords''')\n",
    "\n",
    "\n"
   ]
  },
  {
   "cell_type": "code",
   "execution_count": 13,
   "id": "ffe70995",
   "metadata": {},
   "outputs": [
    {
     "name": "stderr",
     "output_type": "stream",
     "text": [
      "100%|██████████| 72427/72427 [00:00<00:00, 730184.52it/s]"
     ]
    },
    {
     "name": "stdout",
     "output_type": "stream",
     "text": [
      "error  object of type 'float' has no len() 2140\n",
      "error  object of type 'float' has no len() 2601\n",
      "error  object of type 'float' has no len() 2662\n",
      "error  object of type 'float' has no len() 3726\n",
      "error  object of type 'float' has no len() 4509\n",
      "error  object of type 'float' has no len() 4606\n",
      "error  object of type 'float' has no len() 5504\n",
      "error  object of type 'float' has no len() 6085\n",
      "error  object of type 'float' has no len() 7156\n",
      "error  object of type 'float' has no len() 7486\n",
      "error  object of type 'float' has no len() 7513\n",
      "error  object of type 'float' has no len() 7533\n",
      "error  object of type 'float' has no len() 7547\n",
      "error  object of type 'float' has no len() 7718\n",
      "error  object of type 'float' has no len() 8395\n",
      "error  object of type 'float' has no len() 14796\n",
      "error  object of type 'float' has no len() 14836\n",
      "error  object of type 'float' has no len() 14949\n",
      "error  object of type 'float' has no len() 16303\n",
      "error  object of type 'float' has no len() 17376\n",
      "error  object of type 'float' has no len() 17954\n",
      "error  object of type 'float' has no len() 22249\n",
      "error  object of type 'float' has no len() 23243\n",
      "error  object of type 'float' has no len() 25276\n",
      "error  object of type 'float' has no len() 27316\n",
      "error  object of type 'float' has no len() 28629\n",
      "error  object of type 'float' has no len() 31576\n",
      "error  object of type 'float' has no len() 35009\n",
      "error  object of type 'float' has no len() 35627\n",
      "error  object of type 'float' has no len() 39185\n",
      "error  object of type 'float' has no len() 44806\n",
      "error  object of type 'float' has no len() 54309\n",
      "error  object of type 'float' has no len() 70012\n",
      "[('Internet', 145), ('data mining', 111), ('computational complexity', 89), ('algorithms', 85), ('satisfiability', 68), ('null', 67), ('neural network', 63), ('information retrieval', 59), ('first page', 54), ('sufficient condition', 53)]\n"
     ]
    },
    {
     "name": "stderr",
     "output_type": "stream",
     "text": [
      "\n"
     ]
    }
   ],
   "source": [
    "from collections import Counter\n",
    "count_idx_new = Counter()\n",
    "idx = 0\n",
    "for keywords in tqdm(sub_1000['keywords']):\n",
    "#     if idx > 10000:\n",
    "#         break\n",
    "    try:\n",
    "        if len(keywords) == 0:\n",
    "            idx += 1\n",
    "            continue\n",
    "        elif len(keywords) == 1:\n",
    "            if count_idx_new.get(keywords[0]) is None:\n",
    "                count_idx_new[keywords[0]] = 1\n",
    "            else:\n",
    "                count_idx_new[keywords[0]] += 1\n",
    "#             print(count_idx_new[keywords])\n",
    "            idx += 1\n",
    "        else:\n",
    "            if count_idx_new.get(keywords[0]) is None:\n",
    "                count_idx_new[keywords[0]] = 1\n",
    "            else:\n",
    "                count_idx_new[keywords[0]] += 1\n",
    "            idx += 1\n",
    "#         if not pd.isna(keywords).all() and len(keywords) > 0:\n",
    "#         count_idx_new += Counter(keywords[0])\n",
    "#         idx += 1\n",
    "#         else:\n",
    "#             idx +=1\n",
    "#             pass\n",
    "    except Exception as e:\n",
    "        print(\"error \", e ,idx)\n",
    "#         print(np.isnan(keywords))\n",
    "        idx+=1\n",
    "        pass\n",
    "    \n",
    "print(count_idx_new.most_common(10))"
   ]
  },
  {
   "cell_type": "code",
   "execution_count": 15,
   "id": "8a75b544",
   "metadata": {},
   "outputs": [
    {
     "data": {
      "text/plain": [
       "56326"
      ]
     },
     "metadata": {},
     "output_type": "display_data"
    },
    {
     "data": {
      "text/plain": [
       "38510"
      ]
     },
     "metadata": {},
     "output_type": "display_data"
    }
   ],
   "source": [
    "display(len(sub_1000[sub_1000['keywords'].str.len() > 0]))\n",
    "display(len(count_idx_new.keys()))"
   ]
  },
  {
   "cell_type": "code",
   "execution_count": 16,
   "id": "0cd2d829",
   "metadata": {},
   "outputs": [
    {
     "data": {
      "text/plain": [
       "[('Internet', 145),\n",
       " ('data mining', 111),\n",
       " ('computational complexity', 89),\n",
       " ('algorithms', 85),\n",
       " ('satisfiability', 68),\n",
       " ('null', 67),\n",
       " ('neural network', 63),\n",
       " ('information retrieval', 59),\n",
       " ('first page', 54),\n",
       " ('sufficient condition', 53),\n",
       " ('indexation', 53),\n",
       " ('computer science', 53),\n",
       " ('feature extraction', 48),\n",
       " ('software system', 48),\n",
       " ('computer vision', 48),\n",
       " ('optimisation', 47),\n",
       " ('Markov processes', 46),\n",
       " ('computational geometry', 45),\n",
       " ('design', 44),\n",
       " ('real time', 44),\n",
       " ('CMOS integrated circuits', 44),\n",
       " ('internet', 41),\n",
       " ('social network', 40),\n",
       " ('machine learning', 40),\n",
       " ('main result', 39),\n",
       " ('business process', 39),\n",
       " ('speech recognition', 39),\n",
       " ('artificial intelligence', 38),\n",
       " ('software engineering', 38),\n",
       " ('pattern recognition', 38),\n",
       " ('parallel algorithm', 37),\n",
       " ('feature selection', 37),\n",
       " ('VLSI', 36),\n",
       " ('ad hoc networks', 36),\n",
       " ('general', 35),\n",
       " ('Computational Mathematic', 35),\n",
       " ('programming language', 35),\n",
       " ('bioinformatics', 35),\n",
       " ('Information System', 34),\n",
       " ('support vector machine', 34),\n",
       " ('Bayes methods', 34),\n",
       " ('Gaussian processes', 34),\n",
       " ('data structure', 33),\n",
       " ('novel approach', 33),\n",
       " ('mobile robots', 33),\n",
       " ('image segmentation', 33),\n",
       " ('calibration', 32),\n",
       " ('data visualisation', 32),\n",
       " ('cryptography', 32),\n",
       " ('face recognition', 32),\n",
       " ('genetic algorithm', 32),\n",
       " ('protocols', 31),\n",
       " ('digital library', 31),\n",
       " ('MIMO communication', 31),\n",
       " ('image processing', 31),\n",
       " ('genetic algorithms', 31),\n",
       " ('artificial intelligent', 31),\n",
       " ('object recognition', 31),\n",
       " ('First Page', 30),\n",
       " ('cloud computing', 30),\n",
       " ('formal specification', 30),\n",
       " ('fuzzy logic', 29),\n",
       " ('graph theory', 29),\n",
       " ('object oriented', 29),\n",
       " ('web service', 29),\n",
       " ('Web services', 28),\n",
       " ('knowledge management', 28),\n",
       " ('signal processing', 27),\n",
       " ('information system', 27),\n",
       " ('modal logic', 27),\n",
       " ('data compression', 27),\n",
       " ('mathematical model', 26),\n",
       " ('game theory', 26),\n",
       " ('data collection', 26),\n",
       " ('distributed processing', 26),\n",
       " ('information theory', 26),\n",
       " ('cellular radio', 26),\n",
       " ('information technology', 26),\n",
       " ('fuzzy set theory', 26),\n",
       " ('Mathematical Logic', 25),\n",
       " ('different way', 25),\n",
       " ('computer architecture', 25),\n",
       " ('approximation theory', 25),\n",
       " ('computer graphics', 25),\n",
       " ('3G mobile communication', 25),\n",
       " ('computer aided instruction', 25),\n",
       " ('formal method', 25),\n",
       " ('data analysis', 25),\n",
       " ('reinforcement learning', 25),\n",
       " ('knowledge base', 24),\n",
       " ('quality of service', 24),\n",
       " ('three dimensional', 24),\n",
       " ('complete graph', 23),\n",
       " ('Neural Network', 23),\n",
       " ('information systems', 23),\n",
       " ('human computer interaction', 23),\n",
       " ('cognitive radio', 23),\n",
       " ('upper bound', 23),\n",
       " ('lower bound', 23),\n",
       " ('expert system', 22)]"
      ]
     },
     "execution_count": 16,
     "metadata": {},
     "output_type": "execute_result"
    }
   ],
   "source": [
    "count_idx_new.most_common(100)"
   ]
  },
  {
   "cell_type": "code",
   "execution_count": 19,
   "id": "d3a1a7c8",
   "metadata": {
    "scrolled": true
   },
   "outputs": [
    {
     "data": {
      "image/png": "[encoded data removed]",
      "text/plain": [
       "<Figure size 432x288 with 1 Axes>"
      ]
     },
     "metadata": {
      "needs_background": "light"
     },
     "output_type": "display_data"
    }
   ],
   "source": [
    "import numpy as np\n",
    "labels, values = zip(*count_idx_new.most_common(20))\n",
    "indexes = np.arange(len(labels))\n",
    "plt.bar(indexes, values)\n",
    "plt.title(\"Frequency of Keywords\")\n",
    "plt.xticks(indexes + 0.5, labels, rotation = 90)\n",
    "plt.show()"
   ]
  },
  {
   "cell_type": "code",
   "execution_count": 50,
   "id": "5d5643c4",
   "metadata": {},
   "outputs": [
    {
     "data": {
      "text/plain": [
       "pandas.core.frame.DataFrame"
      ]
     },
     "execution_count": 50,
     "metadata": {},
     "output_type": "execute_result"
    }
   ],
   "source": [
    "idx = 0\n",
    "# for i in filter_journal_citations['authors']:\n",
    "#     if idx > 10:\n",
    "#         break\n",
    "#     len(i)\n",
    "type(filter_journal_citations)"
   ]
  },
  {
   "cell_type": "code",
   "execution_count": 464,
   "id": "295349f1",
   "metadata": {},
   "outputs": [],
   "source": [
    "def check_column(column):\n",
    "    try:\n",
    "        assert(type(column) == pd.Series)\n",
    "        assert(len(column) == column.shape[0])\n",
    "    except AssertionError:\n",
    "        print('Incorrect Type of Input')\n",
    "\n",
    "def most_common_counter(column, key = None, last = False):\n",
    "    '''\n",
    "     Identifies most common attributes of a given Series. Faster Counter\n",
    "     dict_ refers to if subquery is dictionary. False is for list\n",
    "     key = specific key in dictionary (assuming dict_ is true)\n",
    "     last = identify first or last item in list\n",
    "    '''\n",
    "    from tqdm import tqdm \n",
    "    \n",
    "    check_column(column)\n",
    "    count_items = Counter()\n",
    "    errors = Counter()\n",
    "    idx = 0\n",
    "    for items in tqdm(column):\n",
    "#         if idx > 500: #Limit breaks if required for debugging\n",
    "#             break\n",
    "        try:\n",
    "            if len(items) == 0:\n",
    "                    idx += 1\n",
    "                    continue\n",
    "            if (key is not None) and (type(items) == dict):\n",
    "                if (len(items) == 1):\n",
    "                    if count_items.get(items[key]) is None:\n",
    "                        count_items[items[key]] = 1\n",
    "                    else:\n",
    "                        count_items[items[key]] += 1\n",
    "                    idx += 1\n",
    "                else:\n",
    "                    if count_items.get(items[key]) is None:\n",
    "                        count_items[items[key]] = 1\n",
    "                    else:\n",
    "                        count_items[items[key]] += 1\n",
    "                    idx += 1\n",
    "            elif (key is not None):\n",
    "                if (len(items) == 1):\n",
    "                    if count_items.get(items[-last][key]) is None:\n",
    "                        count_items[items[-last][key]] = 1\n",
    "                    else:\n",
    "                        count_items[items[-last][key]] += 1\n",
    "                    idx += 1\n",
    "                else:\n",
    "                    if count_items.get(items[-last][key]) is None:\n",
    "                        count_items[items[-last][key]] = 1\n",
    "                    else:\n",
    "                        count_items[items[-last][key]] += 1\n",
    "                    idx += 1\n",
    "            else:    \n",
    "                if len(items) == 1:\n",
    "                    if count_items.get(items[-last]) is None:\n",
    "                        count_items[items[-last]] = 1\n",
    "                    else:\n",
    "                        count_items[items[-last]] += 1\n",
    "                    idx += 1\n",
    "                else:\n",
    "                    if count_items.get(items[-last]) is None:\n",
    "                        count_items[items[-last]] = 1\n",
    "                    else:\n",
    "                        count_items[items[-last]] += 1\n",
    "                    idx += 1\n",
    "        except Exception as e:\n",
    "            e = str(e)\n",
    "            if errors.get(e) is None:\n",
    "                errors[e] = 1\n",
    "            else:\n",
    "                errors[e] += 1\n",
    "#             print(\"error \", e ,idx)\n",
    "            idx+=1\n",
    "            pass\n",
    "\n",
    "    return count_items, errors"
   ]
  },
  {
   "cell_type": "code",
   "execution_count": 78,
   "id": "5e28dfcd",
   "metadata": {},
   "outputs": [
    {
     "name": "stdout",
     "output_type": "stream",
     "text": [
      "2\n",
      "{'_id': '53f46797dabfaeb22f542630', 'name': 'Jairo Rocha'}\n",
      "3\n",
      "{'_id': '53f43b03dabfaedce555bf2a', 'name': 'Min Pan'}\n",
      "4\n",
      "{'_id': '53f39e3edabfae4b34aa8c4a', 'name': 'Jungil Park', 'sid': '237372'}\n",
      "2\n",
      "{'_id': '560175b545cedb3395e59d80', 'name': 'C. Evans'}\n",
      "4\n",
      "{'name': 'Jean-marc Deshouillers', 'sid': '134541', '_id': '53f42c7cdabfaedf43509437'}\n",
      "3\n",
      "{'email': 'harimsri@math.uvic.ca', 'gid': '5b869a4fe1cd8e14a38d67b5', '_id': '53f49508dabfaeb4c677b4a4', 'name': 'Hiromasa Habuchi', 'org': 'Department of Mathematics and Statistics, University of Victoria, Victoria, BC, V8W 3R4, Canada', 'orgid': '5f71b2841c455f439fe3c6c9'}\n",
      "4\n",
      "{'_id': '53f46210dabfaedf43634cba', 'name': 'El Mohajir, Mohammed', 'org': 'FSDM, USMBA, Fez, Morocco|c|', 'gid': '5b86c21ae1cd8e14a39e6b14', 'orgid': '5f71b2811c455f439fe3c5b7'}\n",
      "2\n",
      "{'_id': '53f43c87dabfaedf435b42c8', 'name': 'McDonald Mark W'}\n",
      "1\n",
      "{'_id': '548a2e3ddabfae9b40134fbc', 'name': 'Harry M. Sneed'}\n",
      "2\n",
      "{'_id': '54328b5ddabfaeb4c6a8b965', 'name': 'W.R. Butt'}\n",
      "1\n",
      "{'name': 'P WEILLER'}\n"
     ]
    }
   ],
   "source": [
    "idx = 0\n",
    "for i in sub_1000['authors']:\n",
    "    if idx > 10:\n",
    "        break\n",
    "    print(len(i))\n",
    "    print(i[-0])\n",
    "    idx += 1"
   ]
  },
  {
   "cell_type": "code",
   "execution_count": 465,
   "id": "14d7ddef",
   "metadata": {},
   "outputs": [
    {
     "name": "stderr",
     "output_type": "stream",
     "text": [
      "100%|██████████| 99967/99967 [00:00<00:00, 570245.73it/s]\n"
     ]
    }
   ],
   "source": [
    "first_name_all, errors_first_name_all = most_common_counter(filter_journal['authors'], key = 'name', last = False)\n",
    "# results.most_common(5)\n",
    "# errors.most_common(5)"
   ]
  },
  {
   "cell_type": "code",
   "execution_count": 468,
   "id": "3175bff8",
   "metadata": {},
   "outputs": [
    {
     "data": {
      "text/plain": [
       "[('Karl Rihaczek', 122),\n",
       " ('Dirk Fox', 62),\n",
       " ('Alois Potton', 55),\n",
       " ('Peter G. Neumann', 51),\n",
       " ('Johann Bizer', 50),\n",
       " ('Edmond Bianco', 47),\n",
       " ('&NA;', 42),\n",
       " ('Peter J. Denning', 39),\n",
       " ('Richard Mateosian', 39),\n",
       " ('David Alan Grier', 38),\n",
       " ('Gunter Dueck', 35),\n",
       " ('Noga Alon', 34),\n",
       " ('Nachum Dershowitz', 32),\n",
       " ('Burt Kaliski', 28),\n",
       " ('Peter Mertens', 28),\n",
       " ('Friedrich L. Bauer', 28),\n",
       " ('Not Available Not Available', 27),\n",
       " ('Ramesh Jain', 26),\n",
       " ('George Neville-Neil', 26),\n",
       " ('Gary Singh', 26)]"
      ]
     },
     "execution_count": 468,
     "metadata": {},
     "output_type": "execute_result"
    }
   ],
   "source": [
    "first_name_all.most_common(20)"
   ]
  },
  {
   "cell_type": "code",
   "execution_count": 134,
   "id": "c76aee02",
   "metadata": {},
   "outputs": [
    {
     "data": {
      "text/plain": [
       "[('Karl Rihaczek', 122),\n",
       " ('Dirk Fox', 62),\n",
       " ('Alois Potton', 55),\n",
       " ('Peter G. Neumann', 51),\n",
       " ('Johann Bizer', 50),\n",
       " ('Edmond Bianco', 47),\n",
       " ('&NA;', 42),\n",
       " ('Peter J. Denning', 39),\n",
       " ('Richard Mateosian', 39),\n",
       " ('David Alan Grier', 38),\n",
       " ('Gunter Dueck', 35),\n",
       " ('Noga Alon', 34),\n",
       " ('Nachum Dershowitz', 32),\n",
       " ('Burt Kaliski', 28),\n",
       " ('Peter Mertens', 28),\n",
       " ('Friedrich L. Bauer', 28),\n",
       " ('Not Available Not Available', 27),\n",
       " ('Ramesh Jain', 26),\n",
       " ('George Neville-Neil', 26),\n",
       " ('Gary Singh', 26)]"
      ]
     },
     "execution_count": 134,
     "metadata": {},
     "output_type": "execute_result"
    }
   ],
   "source": [
    "first_name_all.most_common(20)"
   ]
  },
  {
   "cell_type": "code",
   "execution_count": 135,
   "id": "7240b5ae",
   "metadata": {},
   "outputs": [
    {
     "name": "stderr",
     "output_type": "stream",
     "text": [
      "100%|██████████| 99967/99967 [00:00<00:00, 593481.05it/s]\n"
     ]
    },
    {
     "data": {
      "text/plain": [
       "[('Karl Rihaczek', 121),\n",
       " ('Dirk Fox', 64),\n",
       " ('Alois Potton', 55),\n",
       " ('Johann Bizer', 50),\n",
       " ('Peter G. Neumann', 49),\n",
       " ('Edmond Bianco', 47),\n",
       " ('&NA;', 41),\n",
       " ('Moshe Y. Vardi', 40),\n",
       " ('Richard Mateosian', 39),\n",
       " ('Gunter Dueck', 35),\n",
       " ('Ramesh Jain', 35),\n",
       " ('Peter J. Denning', 33),\n",
       " ('David Alan Grier', 30),\n",
       " ('Peter Mertens', 29),\n",
       " ('Burt Kaliski', 28),\n",
       " ('Not Available Not Available', 27),\n",
       " ('Friedrich L. Bauer', 27),\n",
       " ('Saharon Shelah', 27),\n",
       " ('George Neville-Neil', 27),\n",
       " ('Bertrand Meyer', 26)]"
      ]
     },
     "execution_count": 135,
     "metadata": {},
     "output_type": "execute_result"
    }
   ],
   "source": [
    "last_name_all, errors_last_name_all = most_common_counter(filter_journal['authors'], dict_ = True, key = 'name', last = True)\n",
    "last_name_all.most_common(20)\n"
   ]
  },
  {
   "cell_type": "code",
   "execution_count": 132,
   "id": "abe16124",
   "metadata": {},
   "outputs": [
    {
     "name": "stderr",
     "output_type": "stream",
     "text": [
      "100%|██████████| 73044/73044 [00:00<00:00, 610658.80it/s]\n"
     ]
    },
    {
     "data": {
      "text/plain": [
       "[('Moshe Y. Vardi', 37),\n",
       " ('Peter G. Neumann', 34),\n",
       " ('Ramesh Jain', 28),\n",
       " ('Peter J. Denning', 27),\n",
       " ('Moshe Tennenholtz', 25),\n",
       " ('Derick Wood', 24),\n",
       " ('V. S. Subrahmanian', 24),\n",
       " ('Saharon Shelah', 23),\n",
       " ('Azriel Rosenfeld', 22),\n",
       " ('Toby Walsh', 22)]"
      ]
     },
     "execution_count": 132,
     "metadata": {},
     "output_type": "execute_result"
    }
   ],
   "source": [
    "last_name_cit, errors_last_name_xit = most_common_counter(filter_journal_citations['authors'], dict_ = True, key = 'name', last = True)\n",
    "last_name_cit.most_common(10)"
   ]
  },
  {
   "cell_type": "code",
   "execution_count": 133,
   "id": "696f2b1a",
   "metadata": {},
   "outputs": [
    {
     "name": "stderr",
     "output_type": "stream",
     "text": [
      "100%|██████████| 73044/73044 [00:00<00:00, 633678.01it/s]\n"
     ]
    },
    {
     "data": {
      "text/plain": [
       "[('Peter G. Neumann', 36),\n",
       " ('Peter J. Denning', 33),\n",
       " ('Noga Alon', 32),\n",
       " ('Nachum Dershowitz', 29),\n",
       " ('Prosenjit Bose', 21),\n",
       " ('Luca Cardelli', 21),\n",
       " ('Ramesh Jain', 18),\n",
       " ('Dirk Fox', 17),\n",
       " ('Donald E. Knuth', 17),\n",
       " ('Béla Bollobás', 17)]"
      ]
     },
     "execution_count": 133,
     "metadata": {},
     "output_type": "execute_result"
    }
   ],
   "source": [
    "first_name_cit, errors_first_name_xit = most_common_counter(filter_journal_citations['authors'], dict_ = True, key = 'name', last = False)\n",
    "first_name_cit.most_common(10)"
   ]
  },
  {
   "cell_type": "code",
   "execution_count": 436,
   "id": "a2b0ea24",
   "metadata": {},
   "outputs": [],
   "source": [
    "def add_column(df, orig_col, new_col, key = None, last = False):\n",
    "    '''\n",
    "     Extracts Information from internal dictionaries or lists contained in DataFrame original column\n",
    "     Adds as new column to original df\n",
    "     Returns error counter with number of errors encountered.\n",
    "     \n",
    "     key = specific key in dictionary (assuming line is dictionary - will return emtpy list otherwise)\n",
    "     last = identify first or last item in list\n",
    "    '''\n",
    "    from tqdm import tqdm\n",
    "    temp_df = pd.Series(np.nan, index = np.arange(len(df.index)))\n",
    "    errors = Counter()\n",
    "    idx = 0\n",
    "    for items in tqdm(df[orig_col]):\n",
    "        try:\n",
    "            if (key is not None) and (type(items) == dict):\n",
    "                if len(items) == 0:\n",
    "                    idx += 1\n",
    "                    continue\n",
    "                elif (len(items) == 1):\n",
    "                    temp_df.loc[idx] = items[key]\n",
    "                    idx += 1\n",
    "                else:\n",
    "                    temp_df.loc[idx] = items[key]\n",
    "                    idx += 1\n",
    "            elif (key is not None):\n",
    "                if len(items) == 0:\n",
    "                    idx += 1\n",
    "                    continue\n",
    "                elif (len(items) == 1):\n",
    "                    temp_df.loc[idx] = items[-last][key]\n",
    "                    idx += 1\n",
    "                else:\n",
    "                    temp_df.loc[idx] = items[-last][key]\n",
    "                    idx += 1\n",
    "            else:    \n",
    "                if len(items) == 0:\n",
    "                    idx += 1\n",
    "                    continue\n",
    "                elif (len(items) == 1):\n",
    "                    temp_df.loc[idx] = items[-last]\n",
    "                    idx += 1\n",
    "                else:\n",
    "                    temp_df.loc[idx] = items[-last]\n",
    "                    idx += 1\n",
    "               \n",
    "        except Exception as e:\n",
    "            e = str(e)\n",
    "            if errors.get(e) is None:\n",
    "                errors[e] = 1\n",
    "            else:\n",
    "                errors[e] += 1\n",
    "            print(\"error at \", idx, \". \", e)\n",
    "            idx+=1\n",
    "            pass\n",
    "    \n",
    "    temp_df = df_reindex(df, temp_df)\n",
    "    df[new_col] = temp_df\n",
    "    del temp_df\n",
    "    \n",
    "    return errors\n",
    "    "
   ]
  },
  {
   "cell_type": "code",
   "execution_count": 437,
   "id": "e0d3ccc7",
   "metadata": {},
   "outputs": [
    {
     "name": "stderr",
     "output_type": "stream",
     "text": [
      "  2%|▏         | 2354/99967 [00:00<00:08, 11863.21it/s]"
     ]
    },
    {
     "name": "stdout",
     "output_type": "stream",
     "text": [
      "error at  1 .  'raw'\n",
      "error at  18 .  'raw'\n",
      "error at  61 .  'raw'\n",
      "error at  68 .  'raw'\n",
      "error at  70 .  'raw'\n",
      "error at  71 .  'raw'\n",
      "error at  72 .  'raw'\n",
      "error at  73 .  'raw'\n",
      "error at  74 .  'raw'\n",
      "error at  76 .  'raw'\n",
      "error at  77 .  'raw'\n",
      "error at  79 .  'raw'\n",
      "error at  133 .  'raw'\n",
      "error at  169 .  'raw'\n",
      "error at  175 .  'raw'\n",
      "error at  179 .  object of type 'float' has no len()\n",
      "error at  229 .  'raw'\n",
      "error at  240 .  'raw'\n",
      "error at  242 .  'raw'\n",
      "error at  243 .  'raw'\n",
      "error at  244 .  'raw'\n",
      "error at  246 .  'raw'\n",
      "error at  247 .  'raw'\n",
      "error at  248 .  'raw'\n",
      "error at  249 .  'raw'\n",
      "error at  250 .  'raw'\n",
      "error at  251 .  'raw'\n",
      "error at  252 .  'raw'\n",
      "error at  253 .  'raw'\n",
      "error at  254 .  'raw'\n",
      "error at  255 .  'raw'\n",
      "error at  256 .  'raw'\n",
      "error at  257 .  'raw'\n",
      "error at  258 .  'raw'\n",
      "error at  259 .  'raw'\n",
      "error at  260 .  'raw'\n",
      "error at  261 .  'raw'\n",
      "error at  262 .  'raw'\n",
      "error at  263 .  'raw'\n",
      "error at  376 .  'raw'\n",
      "error at  435 .  'raw'\n",
      "error at  436 .  'raw'\n",
      "error at  439 .  'raw'\n",
      "error at  440 .  'raw'\n",
      "error at  441 .  'raw'\n",
      "error at  443 .  'raw'\n",
      "error at  444 .  'raw'\n",
      "error at  445 .  'raw'\n",
      "error at  446 .  'raw'\n",
      "error at  447 .  'raw'\n",
      "error at  448 .  'raw'\n",
      "error at  450 .  'raw'\n",
      "error at  451 .  'raw'\n",
      "error at  452 .  'raw'\n",
      "error at  453 .  'raw'\n",
      "error at  454 .  'raw'\n",
      "error at  455 .  'raw'\n",
      "error at  457 .  'raw'\n",
      "error at  459 .  'raw'\n",
      "error at  461 .  'raw'\n",
      "error at  462 .  'raw'\n",
      "error at  464 .  'raw'\n",
      "error at  467 .  'raw'\n",
      "error at  468 .  'raw'\n",
      "error at  472 .  'raw'\n",
      "error at  474 .  'raw'\n",
      "error at  480 .  object of type 'float' has no len()\n",
      "error at  486 .  object of type 'float' has no len()\n",
      "error at  489 .  object of type 'float' has no len()\n",
      "error at  492 .  object of type 'float' has no len()\n",
      "error at  493 .  object of type 'float' has no len()\n",
      "error at  495 .  object of type 'float' has no len()\n",
      "error at  595 .  'raw'\n",
      "error at  642 .  'raw'\n",
      "error at  773 .  'raw'\n",
      "error at  776 .  'raw'\n",
      "error at  777 .  'raw'\n",
      "error at  778 .  'raw'\n",
      "error at  779 .  'raw'\n",
      "error at  780 .  'raw'\n",
      "error at  781 .  'raw'\n",
      "error at  782 .  'raw'\n",
      "error at  783 .  'raw'\n",
      "error at  784 .  'raw'\n",
      "error at  785 .  'raw'\n",
      "error at  786 .  'raw'\n",
      "error at  787 .  'raw'\n",
      "error at  788 .  'raw'\n",
      "error at  789 .  'raw'\n",
      "error at  790 .  'raw'\n",
      "error at  792 .  'raw'\n",
      "error at  872 .  'raw'\n",
      "error at  879 .  'raw'\n",
      "error at  881 .  'raw'\n",
      "error at  883 .  'raw'\n",
      "error at  884 .  'raw'\n",
      "error at  885 .  'raw'\n",
      "error at  886 .  'raw'\n",
      "error at  888 .  'raw'\n",
      "error at  889 .  'raw'\n",
      "error at  892 .  'raw'\n",
      "error at  893 .  'raw'\n",
      "error at  894 .  'raw'\n",
      "error at  897 .  'raw'\n",
      "error at  898 .  'raw'\n",
      "error at  899 .  'raw'\n",
      "error at  900 .  'raw'\n",
      "error at  901 .  'raw'\n",
      "error at  1004 .  object of type 'float' has no len()\n",
      "error at  1029 .  'raw'\n",
      "error at  1122 .  object of type 'float' has no len()\n",
      "error at  1157 .  object of type 'float' has no len()\n",
      "error at  1158 .  object of type 'float' has no len()\n",
      "error at  1223 .  'raw'\n",
      "error at  1225 .  'raw'\n",
      "error at  1236 .  'raw'\n",
      "error at  1271 .  'raw'\n",
      "error at  1298 .  'raw'\n",
      "error at  1340 .  'raw'\n",
      "error at  1342 .  'raw'\n",
      "error at  1344 .  'raw'\n",
      "error at  1345 .  'raw'\n",
      "error at  1351 .  'raw'\n",
      "error at  1352 .  'raw'\n",
      "error at  1353 .  'raw'\n",
      "error at  1356 .  'raw'\n",
      "error at  1357 .  'raw'\n",
      "error at  1358 .  'raw'\n",
      "error at  1360 .  'raw'\n",
      "error at  1361 .  'raw'\n",
      "error at  1362 .  'raw'\n",
      "error at  1364 .  'raw'\n",
      "error at  1365 .  'raw'\n",
      "error at  1366 .  'raw'\n",
      "error at  1367 .  'raw'\n",
      "error at  1368 .  'raw'\n",
      "error at  1369 .  'raw'\n",
      "error at  1370 .  'raw'\n",
      "error at  1371 .  'raw'\n",
      "error at  1373 .  'raw'\n",
      "error at  1380 .  'raw'\n",
      "error at  1381 .  'raw'\n",
      "error at  1388 .  'raw'\n",
      "error at  1392 .  'raw'\n",
      "error at  1395 .  'raw'\n",
      "error at  1404 .  'raw'\n",
      "error at  1414 .  'raw'\n",
      "error at  1418 .  'raw'\n",
      "error at  1422 .  'raw'\n",
      "error at  1445 .  'raw'\n",
      "error at  1446 .  'raw'\n",
      "error at  1447 .  'raw'\n",
      "error at  1449 .  'raw'\n",
      "error at  1450 .  'raw'\n",
      "error at  1451 .  'raw'\n",
      "error at  1452 .  'raw'\n",
      "error at  1453 .  'raw'\n",
      "error at  1454 .  'raw'\n",
      "error at  1455 .  'raw'\n",
      "error at  1456 .  'raw'\n",
      "error at  1457 .  'raw'\n",
      "error at  1458 .  'raw'\n",
      "error at  1459 .  'raw'\n",
      "error at  1460 .  'raw'\n",
      "error at  1679 .  object of type 'float' has no len()\n",
      "error at  1723 .  object of type 'float' has no len()\n",
      "error at  1726 .  object of type 'float' has no len()\n",
      "error at  1727 .  object of type 'float' has no len()\n",
      "error at  1729 .  object of type 'float' has no len()\n",
      "error at  2469 .  object of type 'float' has no len()\n",
      "error at  2527 .  object of type 'float' has no len()\n"
     ]
    },
    {
     "name": "stderr",
     "output_type": "stream",
     "text": [
      "  6%|▌         | 5730/99967 [00:00<00:06, 15186.27it/s]"
     ]
    },
    {
     "name": "stdout",
     "output_type": "stream",
     "text": [
      "error at  2747 .  object of type 'float' has no len()\n",
      "error at  3086 .  object of type 'float' has no len()\n",
      "error at  3204 .  object of type 'float' has no len()\n",
      "error at  3207 .  object of type 'float' has no len()\n",
      "error at  3208 .  object of type 'float' has no len()\n",
      "error at  3744 .  object of type 'float' has no len()\n",
      "error at  3745 .  object of type 'float' has no len()\n",
      "error at  3799 .  object of type 'float' has no len()\n",
      "error at  3860 .  object of type 'float' has no len()\n",
      "error at  3897 .  object of type 'float' has no len()\n",
      "error at  3915 .  object of type 'float' has no len()\n",
      "error at  4202 .  object of type 'float' has no len()\n",
      "error at  4366 .  object of type 'float' has no len()\n",
      "error at  4462 .  object of type 'float' has no len()\n",
      "error at  4660 .  object of type 'float' has no len()\n",
      "error at  4773 .  object of type 'float' has no len()\n",
      "error at  4847 .  object of type 'float' has no len()\n",
      "error at  4890 .  object of type 'float' has no len()\n",
      "error at  4941 .  object of type 'float' has no len()\n",
      "error at  4989 .  object of type 'float' has no len()\n",
      "error at  4990 .  object of type 'float' has no len()\n",
      "error at  5330 .  object of type 'float' has no len()\n",
      "error at  5396 .  object of type 'float' has no len()\n",
      "error at  5411 .  object of type 'float' has no len()\n",
      "error at  5525 .  object of type 'float' has no len()\n",
      "error at  5646 .  object of type 'float' has no len()\n",
      "error at  5647 .  object of type 'float' has no len()\n",
      "error at  5681 .  object of type 'float' has no len()\n",
      "error at  5723 .  object of type 'float' has no len()\n",
      "error at  5728 .  object of type 'float' has no len()\n",
      "error at  5896 .  object of type 'float' has no len()\n",
      "error at  5978 .  object of type 'float' has no len()\n",
      "error at  5997 .  object of type 'float' has no len()\n",
      "error at  6063 .  object of type 'float' has no len()\n",
      "error at  6065 .  object of type 'float' has no len()\n",
      "error at  6070 .  object of type 'float' has no len()\n",
      "error at  6086 .  object of type 'float' has no len()\n",
      "error at  6087 .  object of type 'float' has no len()\n"
     ]
    },
    {
     "name": "stderr",
     "output_type": "stream",
     "text": [
      "  9%|▉         | 9197/99967 [00:00<00:05, 16514.87it/s]"
     ]
    },
    {
     "name": "stdout",
     "output_type": "stream",
     "text": [
      "error at  6475 .  object of type 'float' has no len()\n",
      "error at  6571 .  object of type 'float' has no len()\n",
      "error at  6650 .  object of type 'float' has no len()\n",
      "error at  6829 .  object of type 'float' has no len()\n",
      "error at  6914 .  object of type 'float' has no len()\n",
      "error at  7134 .  object of type 'float' has no len()\n",
      "error at  7136 .  object of type 'float' has no len()\n",
      "error at  7268 .  object of type 'float' has no len()\n",
      "error at  8174 .  object of type 'float' has no len()\n",
      "error at  8177 .  object of type 'float' has no len()\n",
      "error at  8344 .  object of type 'float' has no len()\n",
      "error at  8509 .  object of type 'float' has no len()\n",
      "error at  8510 .  object of type 'float' has no len()\n",
      "error at  8609 .  object of type 'float' has no len()\n",
      "error at  8781 .  object of type 'float' has no len()\n",
      "error at  8985 .  object of type 'float' has no len()\n",
      "error at  9036 .  object of type 'float' has no len()\n",
      "error at  9101 .  object of type 'float' has no len()\n",
      "error at  9161 .  object of type 'float' has no len()\n",
      "error at  9397 .  object of type 'float' has no len()\n",
      "error at  9649 .  object of type 'float' has no len()\n",
      "error at  9739 .  object of type 'float' has no len()\n",
      "error at  9742 .  object of type 'float' has no len()\n",
      "error at  9784 .  object of type 'float' has no len()\n",
      "error at  9884 .  object of type 'float' has no len()\n",
      "error at  9976 .  object of type 'float' has no len()\n",
      "error at  10154 .  object of type 'float' has no len()\n",
      "error at  10168 .  object of type 'float' has no len()\n",
      "error at  10337 .  object of type 'float' has no len()\n",
      "error at  10338 .  object of type 'float' has no len()\n"
     ]
    },
    {
     "name": "stderr",
     "output_type": "stream",
     "text": [
      " 13%|█▎        | 12647/99967 [00:00<00:05, 16834.61it/s]"
     ]
    },
    {
     "name": "stdout",
     "output_type": "stream",
     "text": [
      "error at  10507 .  object of type 'float' has no len()\n",
      "error at  10508 .  object of type 'float' has no len()\n",
      "error at  10530 .  object of type 'float' has no len()\n",
      "error at  10531 .  object of type 'float' has no len()\n",
      "error at  10570 .  object of type 'float' has no len()\n",
      "error at  10575 .  object of type 'float' has no len()\n",
      "error at  10661 .  object of type 'float' has no len()\n",
      "error at  10705 .  object of type 'float' has no len()\n",
      "error at  10720 .  object of type 'float' has no len()\n",
      "error at  10749 .  'raw'\n",
      "error at  10859 .  object of type 'float' has no len()\n",
      "error at  10871 .  object of type 'float' has no len()\n",
      "error at  11025 .  object of type 'float' has no len()\n",
      "error at  11126 .  object of type 'float' has no len()\n",
      "error at  11141 .  object of type 'float' has no len()\n",
      "error at  11192 .  object of type 'float' has no len()\n",
      "error at  11193 .  object of type 'float' has no len()\n",
      "error at  11296 .  object of type 'float' has no len()\n",
      "error at  11507 .  object of type 'float' has no len()\n",
      "error at  11576 .  object of type 'float' has no len()\n",
      "error at  11770 .  object of type 'float' has no len()\n",
      "error at  11809 .  object of type 'float' has no len()\n",
      "error at  11858 .  object of type 'float' has no len()\n",
      "error at  11878 .  object of type 'float' has no len()\n",
      "error at  12100 .  object of type 'float' has no len()\n",
      "error at  12128 .  object of type 'float' has no len()\n",
      "error at  12209 .  object of type 'float' has no len()\n",
      "error at  12297 .  object of type 'float' has no len()\n",
      "error at  12306 .  object of type 'float' has no len()\n",
      "error at  12325 .  object of type 'float' has no len()\n",
      "error at  12345 .  object of type 'float' has no len()\n",
      "error at  12411 .  object of type 'float' has no len()\n",
      "error at  12412 .  object of type 'float' has no len()\n",
      "error at  12571 .  object of type 'float' has no len()\n",
      "error at  12572 .  object of type 'float' has no len()\n",
      "error at  12573 .  object of type 'float' has no len()\n",
      "error at  12574 .  object of type 'float' has no len()\n",
      "error at  12578 .  object of type 'float' has no len()\n",
      "error at  12579 .  object of type 'float' has no len()\n",
      "error at  12802 .  object of type 'float' has no len()\n",
      "error at  12828 .  object of type 'float' has no len()\n",
      "error at  12915 .  object of type 'float' has no len()\n",
      "error at  12955 .  object of type 'float' has no len()\n",
      "error at  12957 .  object of type 'float' has no len()\n",
      "error at  13097 .  object of type 'float' has no len()\n",
      "error at  13275 .  object of type 'float' has no len()\n",
      "error at  13343 .  object of type 'float' has no len()\n",
      "error at  13344 .  object of type 'float' has no len()\n",
      "error at  13414 .  object of type 'float' has no len()\n",
      "error at  13487 .  object of type 'float' has no len()\n",
      "error at  13517 .  object of type 'float' has no len()\n",
      "error at  13525 .  object of type 'float' has no len()\n",
      "error at  13563 .  object of type 'float' has no len()\n",
      "error at  13565 .  object of type 'float' has no len()\n",
      "error at  13604 .  object of type 'float' has no len()\n",
      "error at  13638 .  object of type 'float' has no len()\n",
      "error at  13666 .  object of type 'float' has no len()\n",
      "error at  13916 .  object of type 'float' has no len()\n"
     ]
    },
    {
     "name": "stderr",
     "output_type": "stream",
     "text": [
      " 16%|█▌        | 15981/99967 [00:01<00:05, 16294.31it/s]"
     ]
    },
    {
     "name": "stdout",
     "output_type": "stream",
     "text": [
      "error at  14112 .  object of type 'float' has no len()\n",
      "error at  14142 .  object of type 'float' has no len()\n",
      "error at  14206 .  object of type 'float' has no len()\n",
      "error at  14310 .  object of type 'float' has no len()\n",
      "error at  14341 .  object of type 'float' has no len()\n",
      "error at  14483 .  object of type 'float' has no len()\n",
      "error at  14558 .  object of type 'float' has no len()\n",
      "error at  14573 .  object of type 'float' has no len()\n",
      "error at  14648 .  object of type 'float' has no len()\n",
      "error at  14673 .  object of type 'float' has no len()\n",
      "error at  14705 .  object of type 'float' has no len()\n",
      "error at  14794 .  object of type 'float' has no len()\n",
      "error at  15003 .  object of type 'float' has no len()\n",
      "error at  15159 .  object of type 'float' has no len()\n",
      "error at  15225 .  object of type 'float' has no len()\n",
      "error at  15289 .  object of type 'float' has no len()\n",
      "error at  15325 .  object of type 'float' has no len()\n",
      "error at  15326 .  object of type 'float' has no len()\n",
      "error at  15585 .  object of type 'float' has no len()\n",
      "error at  15586 .  object of type 'float' has no len()\n",
      "error at  15668 .  object of type 'float' has no len()\n",
      "error at  15827 .  object of type 'float' has no len()\n",
      "error at  15852 .  object of type 'float' has no len()\n",
      "error at  15884 .  object of type 'float' has no len()\n",
      "error at  15888 .  object of type 'float' has no len()\n",
      "error at  15929 .  object of type 'float' has no len()\n",
      "error at  16010 .  object of type 'float' has no len()\n",
      "error at  16210 .  object of type 'float' has no len()\n",
      "error at  16211 .  object of type 'float' has no len()\n",
      "error at  16380 .  object of type 'float' has no len()\n",
      "error at  16520 .  object of type 'float' has no len()\n",
      "error at  16916 .  object of type 'float' has no len()\n",
      "error at  17023 .  object of type 'float' has no len()\n",
      "error at  17130 .  object of type 'float' has no len()\n",
      "error at  17231 .  object of type 'float' has no len()\n",
      "error at  17296 .  object of type 'float' has no len()\n",
      "error at  17298 .  object of type 'float' has no len()\n",
      "error at  17446 .  object of type 'float' has no len()\n"
     ]
    },
    {
     "name": "stderr",
     "output_type": "stream",
     "text": [
      " 21%|██        | 21204/99967 [00:01<00:04, 17116.30it/s]"
     ]
    },
    {
     "name": "stdout",
     "output_type": "stream",
     "text": [
      "error at  17738 .  object of type 'float' has no len()\n",
      "error at  17793 .  object of type 'float' has no len()\n",
      "error at  17899 .  object of type 'float' has no len()\n",
      "error at  17902 .  object of type 'float' has no len()\n",
      "error at  17935 .  object of type 'float' has no len()\n",
      "error at  18029 .  object of type 'float' has no len()\n",
      "error at  18458 .  object of type 'float' has no len()\n",
      "error at  18497 .  object of type 'float' has no len()\n",
      "error at  18514 .  object of type 'float' has no len()\n",
      "error at  18823 .  object of type 'float' has no len()\n",
      "error at  19033 .  object of type 'float' has no len()\n",
      "error at  19132 .  object of type 'float' has no len()\n",
      "error at  19332 .  object of type 'float' has no len()\n",
      "error at  19506 .  object of type 'float' has no len()\n",
      "error at  19508 .  object of type 'float' has no len()\n",
      "error at  20069 .  object of type 'float' has no len()\n",
      "error at  21251 .  object of type 'float' has no len()\n"
     ]
    },
    {
     "name": "stderr",
     "output_type": "stream",
     "text": [
      " 25%|██▍       | 24935/99967 [00:01<00:04, 17927.76it/s]"
     ]
    },
    {
     "name": "stdout",
     "output_type": "stream",
     "text": [
      "error at  22709 .  object of type 'float' has no len()\n",
      "error at  23016 .  object of type 'float' has no len()\n",
      "error at  23490 .  object of type 'float' has no len()\n",
      "error at  24217 .  object of type 'float' has no len()\n",
      "error at  24606 .  object of type 'float' has no len()\n",
      "error at  24959 .  object of type 'float' has no len()\n",
      "error at  25109 .  object of type 'float' has no len()\n",
      "error at  25158 .  object of type 'float' has no len()\n",
      "error at  25646 .  object of type 'float' has no len()\n",
      "error at  25878 .  object of type 'float' has no len()\n",
      "error at  26204 .  object of type 'float' has no len()\n",
      "error at  26352 .  object of type 'float' has no len()\n"
     ]
    },
    {
     "name": "stderr",
     "output_type": "stream",
     "text": [
      " 30%|███       | 30343/99967 [00:01<00:03, 17844.38it/s]"
     ]
    },
    {
     "name": "stdout",
     "output_type": "stream",
     "text": [
      "error at  26588 .  object of type 'float' has no len()\n",
      "error at  27054 .  object of type 'float' has no len()\n",
      "error at  28201 .  object of type 'float' has no len()\n",
      "error at  28651 .  object of type 'float' has no len()\n",
      "error at  28779 .  object of type 'float' has no len()\n",
      "error at  28810 .  object of type 'float' has no len()\n",
      "error at  28924 .  object of type 'float' has no len()\n",
      "error at  29188 .  object of type 'float' has no len()\n",
      "error at  29239 .  object of type 'float' has no len()\n",
      "error at  29334 .  object of type 'float' has no len()\n",
      "error at  29517 .  object of type 'float' has no len()\n",
      "error at  30165 .  object of type 'float' has no len()\n",
      "error at  30197 .  object of type 'float' has no len()\n",
      "error at  30238 .  object of type 'float' has no len()\n"
     ]
    },
    {
     "name": "stderr",
     "output_type": "stream",
     "text": [
      " 34%|███▍      | 34006/99967 [00:02<00:03, 18104.36it/s]"
     ]
    },
    {
     "name": "stdout",
     "output_type": "stream",
     "text": [
      "error at  30539 .  object of type 'float' has no len()\n",
      "error at  31545 .  object of type 'float' has no len()\n",
      "error at  31725 .  object of type 'float' has no len()\n",
      "error at  31866 .  object of type 'float' has no len()\n",
      "error at  32013 .  object of type 'float' has no len()\n",
      "error at  32404 .  object of type 'float' has no len()\n",
      "error at  33134 .  object of type 'float' has no len()\n",
      "error at  33309 .  object of type 'float' has no len()\n",
      "error at  34116 .  object of type 'float' has no len()\n",
      "error at  34343 .  object of type 'float' has no len()\n"
     ]
    },
    {
     "name": "stderr",
     "output_type": "stream",
     "text": [
      " 38%|███▊      | 37726/99967 [00:02<00:03, 18373.97it/s]"
     ]
    },
    {
     "name": "stdout",
     "output_type": "stream",
     "text": [
      "error at  34916 .  object of type 'float' has no len()\n",
      "error at  35719 .  object of type 'float' has no len()\n",
      "error at  36726 .  object of type 'float' has no len()\n",
      "error at  36768 .  object of type 'float' has no len()\n",
      "error at  37063 .  object of type 'float' has no len()\n",
      "error at  38309 .  object of type 'float' has no len()\n",
      "error at  38321 .  object of type 'float' has no len()\n",
      "error at  38512 .  object of type 'float' has no len()\n",
      "error at  38557 .  object of type 'float' has no len()\n",
      "error at  38749 .  object of type 'float' has no len()\n"
     ]
    },
    {
     "name": "stderr",
     "output_type": "stream",
     "text": [
      " 41%|████▏     | 41455/99967 [00:02<00:03, 18527.52it/s]"
     ]
    },
    {
     "name": "stdout",
     "output_type": "stream",
     "text": [
      "error at  39131 .  object of type 'float' has no len()\n",
      "error at  39619 .  object of type 'float' has no len()\n",
      "error at  39942 .  object of type 'float' has no len()\n",
      "error at  40059 .  object of type 'float' has no len()\n",
      "error at  40169 .  object of type 'float' has no len()\n",
      "error at  41682 .  object of type 'float' has no len()\n",
      "error at  41707 .  object of type 'float' has no len()\n",
      "error at  41752 .  object of type 'float' has no len()\n",
      "error at  42974 .  object of type 'float' has no len()\n"
     ]
    },
    {
     "name": "stderr",
     "output_type": "stream",
     "text": [
      " 47%|████▋     | 47135/99967 [00:02<00:02, 18674.94it/s]"
     ]
    },
    {
     "name": "stdout",
     "output_type": "stream",
     "text": [
      "error at  43963 .  object of type 'float' has no len()\n",
      "error at  44263 .  object of type 'float' has no len()\n",
      "error at  44316 .  object of type 'float' has no len()\n",
      "error at  44883 .  object of type 'float' has no len()\n",
      "error at  44920 .  object of type 'float' has no len()\n",
      "error at  45551 .  object of type 'float' has no len()\n",
      "error at  45852 .  object of type 'float' has no len()\n",
      "error at  46166 .  object of type 'float' has no len()\n",
      "error at  46505 .  object of type 'float' has no len()\n",
      "error at  46547 .  object of type 'float' has no len()\n",
      "error at  47134 .  object of type 'float' has no len()\n",
      "error at  47481 .  object of type 'float' has no len()\n",
      "error at  47785 .  object of type 'float' has no len()\n"
     ]
    },
    {
     "name": "stderr",
     "output_type": "stream",
     "text": [
      " 51%|█████     | 50873/99967 [00:02<00:02, 18592.31it/s]"
     ]
    },
    {
     "name": "stdout",
     "output_type": "stream",
     "text": [
      "error at  48423 .  object of type 'float' has no len()\n",
      "error at  48489 .  object of type 'float' has no len()\n",
      "error at  48939 .  object of type 'float' has no len()\n",
      "error at  49171 .  object of type 'float' has no len()\n",
      "error at  49483 .  object of type 'float' has no len()\n",
      "error at  49791 .  object of type 'float' has no len()\n",
      "error at  50726 .  object of type 'float' has no len()\n",
      "error at  51190 .  object of type 'float' has no len()\n",
      "error at  51525 .  object of type 'float' has no len()\n",
      "error at  52251 .  object of type 'float' has no len()\n"
     ]
    },
    {
     "name": "stderr",
     "output_type": "stream",
     "text": [
      " 55%|█████▍    | 54664/99967 [00:03<00:02, 18673.66it/s]"
     ]
    },
    {
     "name": "stdout",
     "output_type": "stream",
     "text": [
      "error at  52601 .  object of type 'float' has no len()\n",
      "error at  52707 .  object of type 'float' has no len()\n",
      "error at  53560 .  object of type 'float' has no len()\n",
      "error at  53775 .  object of type 'float' has no len()\n",
      "error at  53898 .  object of type 'float' has no len()\n",
      "error at  54572 .  object of type 'float' has no len()\n",
      "error at  56131 .  object of type 'float' has no len()\n",
      "error at  56410 .  object of type 'float' has no len()\n"
     ]
    },
    {
     "name": "stderr",
     "output_type": "stream",
     "text": [
      " 60%|██████    | 60400/99967 [00:03<00:02, 18903.92it/s]"
     ]
    },
    {
     "name": "stdout",
     "output_type": "stream",
     "text": [
      "error at  57872 .  object of type 'float' has no len()\n",
      "error at  59480 .  object of type 'float' has no len()\n",
      "error at  59518 .  object of type 'float' has no len()\n",
      "error at  59642 .  object of type 'float' has no len()\n",
      "error at  59700 .  object of type 'float' has no len()\n",
      "error at  60353 .  object of type 'float' has no len()\n",
      "error at  60821 .  object of type 'float' has no len()\n",
      "error at  61047 .  object of type 'float' has no len()\n"
     ]
    },
    {
     "name": "stderr",
     "output_type": "stream",
     "text": [
      " 66%|██████▌   | 66032/99967 [00:03<00:01, 17964.02it/s]"
     ]
    },
    {
     "name": "stdout",
     "output_type": "stream",
     "text": [
      "error at  62612 .  object of type 'float' has no len()\n",
      "error at  63885 .  object of type 'float' has no len()\n",
      "error at  65323 .  object of type 'float' has no len()\n",
      "error at  65470 .  object of type 'float' has no len()\n"
     ]
    },
    {
     "name": "stderr",
     "output_type": "stream",
     "text": [
      " 70%|██████▉   | 69597/99967 [00:03<00:01, 17498.53it/s]"
     ]
    },
    {
     "name": "stdout",
     "output_type": "stream",
     "text": [
      "error at  66913 .  object of type 'float' has no len()\n",
      "error at  67056 .  object of type 'float' has no len()\n",
      "error at  67207 .  object of type 'float' has no len()\n",
      "error at  67389 .  object of type 'float' has no len()\n",
      "error at  67410 .  object of type 'float' has no len()\n",
      "error at  67412 .  object of type 'float' has no len()\n",
      "error at  70199 .  object of type 'float' has no len()\n"
     ]
    },
    {
     "name": "stderr",
     "output_type": "stream",
     "text": [
      " 73%|███████▎  | 73074/99967 [00:04<00:01, 17171.62it/s]"
     ]
    },
    {
     "name": "stdout",
     "output_type": "stream",
     "text": [
      "error at  70515 .  object of type 'float' has no len()\n",
      "error at  70981 .  object of type 'float' has no len()\n",
      "error at  71532 .  'raw'\n",
      "error at  71846 .  object of type 'float' has no len()\n",
      "error at  73639 .  object of type 'float' has no len()\n",
      "error at  73909 .  object of type 'float' has no len()\n",
      "error at  74100 .  object of type 'float' has no len()\n",
      "error at  74127 .  object of type 'float' has no len()\n"
     ]
    },
    {
     "name": "stderr",
     "output_type": "stream",
     "text": [
      " 77%|███████▋  | 76523/99967 [00:04<00:01, 17131.56it/s]"
     ]
    },
    {
     "name": "stdout",
     "output_type": "stream",
     "text": [
      "error at  74626 .  object of type 'float' has no len()\n",
      "error at  74886 .  object of type 'float' has no len()\n",
      "error at  74889 .  object of type 'float' has no len()\n",
      "error at  75228 .  object of type 'float' has no len()\n",
      "error at  75256 .  object of type 'float' has no len()\n",
      "error at  75994 .  object of type 'float' has no len()\n",
      "error at  76173 .  'raw'\n",
      "error at  76671 .  object of type 'float' has no len()\n",
      "error at  77261 .  object of type 'float' has no len()\n",
      "error at  77529 .  object of type 'float' has no len()\n"
     ]
    },
    {
     "name": "stderr",
     "output_type": "stream",
     "text": [
      " 82%|████████▏ | 81831/99967 [00:04<00:01, 17513.24it/s]"
     ]
    },
    {
     "name": "stdout",
     "output_type": "stream",
     "text": [
      "error at  78492 .  object of type 'float' has no len()\n",
      "error at  79193 .  object of type 'float' has no len()\n",
      "error at  79505 .  object of type 'float' has no len()\n",
      "error at  79902 .  object of type 'float' has no len()\n",
      "error at  80162 .  'raw'\n",
      "error at  80409 .  object of type 'float' has no len()\n",
      "error at  80609 .  object of type 'float' has no len()\n"
     ]
    },
    {
     "name": "stderr",
     "output_type": "stream",
     "text": [
      " 85%|████████▌ | 85315/99967 [00:04<00:00, 17127.15it/s]"
     ]
    },
    {
     "name": "stdout",
     "output_type": "stream",
     "text": [
      "error at  82315 .  'raw'\n",
      "error at  82499 .  object of type 'float' has no len()\n",
      "error at  83143 .  object of type 'float' has no len()\n",
      "error at  83465 .  object of type 'float' has no len()\n",
      "error at  83663 .  object of type 'float' has no len()\n",
      "error at  83679 .  object of type 'float' has no len()\n",
      "error at  83937 .  object of type 'float' has no len()\n",
      "error at  84158 .  object of type 'float' has no len()\n",
      "error at  84589 .  object of type 'float' has no len()\n",
      "error at  85068 .  object of type 'float' has no len()\n",
      "error at  85072 .  object of type 'float' has no len()\n",
      "error at  85104 .  object of type 'float' has no len()\n",
      "error at  85565 .  'raw'\n"
     ]
    },
    {
     "name": "stderr",
     "output_type": "stream",
     "text": [
      " 91%|█████████ | 90694/99967 [00:05<00:00, 17687.23it/s]"
     ]
    },
    {
     "name": "stdout",
     "output_type": "stream",
     "text": [
      "error at  87030 .  object of type 'float' has no len()\n",
      "error at  88338 .  object of type 'float' has no len()\n",
      "error at  88767 .  object of type 'float' has no len()\n",
      "error at  89263 .  'raw'\n",
      "error at  89319 .  object of type 'float' has no len()\n",
      "error at  89388 .  object of type 'float' has no len()\n",
      "error at  90180 .  object of type 'float' has no len()\n",
      "error at  90578 .  object of type 'float' has no len()\n",
      "error at  90589 .  object of type 'float' has no len()\n",
      "error at  90634 .  object of type 'float' has no len()\n"
     ]
    },
    {
     "name": "stderr",
     "output_type": "stream",
     "text": [
      " 94%|█████████▍| 94254/99967 [00:05<00:00, 17733.83it/s]"
     ]
    },
    {
     "name": "stdout",
     "output_type": "stream",
     "text": [
      "error at  91619 .  object of type 'float' has no len()\n",
      "error at  91909 .  object of type 'float' has no len()\n",
      "error at  91910 .  object of type 'float' has no len()\n",
      "error at  91992 .  object of type 'float' has no len()\n",
      "error at  92147 .  object of type 'float' has no len()\n",
      "error at  92601 .  object of type 'float' has no len()\n",
      "error at  92671 .  object of type 'float' has no len()\n",
      "error at  93317 .  object of type 'float' has no len()\n",
      "error at  93392 .  object of type 'float' has no len()\n",
      "error at  93627 .  object of type 'float' has no len()\n"
     ]
    },
    {
     "name": "stderr",
     "output_type": "stream",
     "text": [
      "100%|█████████▉| 99554/99967 [00:05<00:00, 17543.53it/s]"
     ]
    },
    {
     "name": "stdout",
     "output_type": "stream",
     "text": [
      "error at  96022 .  object of type 'float' has no len()\n",
      "error at  97170 .  object of type 'float' has no len()\n",
      "error at  97173 .  object of type 'float' has no len()\n",
      "error at  97272 .  object of type 'float' has no len()\n",
      "error at  98023 .  object of type 'float' has no len()\n",
      "error at  98116 .  object of type 'float' has no len()\n",
      "error at  98311 .  object of type 'float' has no len()\n",
      "error at  98742 .  object of type 'float' has no len()\n"
     ]
    },
    {
     "name": "stderr",
     "output_type": "stream",
     "text": [
      "100%|██████████| 99967/99967 [00:05<00:00, 17537.42it/s]\n",
      "<ipython-input-436-bfd343794ad1>:58: SettingWithCopyWarning: \n",
      "A value is trying to be set on a copy of a slice from a DataFrame.\n",
      "Try using .loc[row_indexer,col_indexer] = value instead\n",
      "\n",
      "See the caveats in the documentation: https://pandas.pydata.org/pandas-docs/stable/user_guide/indexing.html#returning-a-view-versus-a-copy\n",
      "  df[new_col] = temp_df\n"
     ]
    },
    {
     "data": {
      "text/plain": [
       "Counter({\"'raw'\": 160, \"object of type 'float' has no len()\": 363})"
      ]
     },
     "execution_count": 437,
     "metadata": {},
     "output_type": "execute_result"
    }
   ],
   "source": [
    "# type(filter_journal.iloc[4].venue) == dict\n",
    "add_column(filter_journal, 'venue', 'venue_name', 'raw')"
   ]
  },
  {
   "cell_type": "code",
   "execution_count": 463,
   "id": "1cf2b998",
   "metadata": {},
   "outputs": [
    {
     "data": {
      "text/plain": [
       "{'_id': '53a731f120f7420be8d6d307', 'raw': 'Elektronische Rechenanlagen'}"
      ]
     },
     "execution_count": 463,
     "metadata": {},
     "output_type": "execute_result"
    }
   ],
   "source": [
    "filter_journal.iloc[7390].venue#[['venue','venue_name']]"
   ]
  },
  {
   "cell_type": "code",
   "execution_count": 376,
   "id": "426a4aa1",
   "metadata": {},
   "outputs": [],
   "source": [
    "def df_reindex(df, series):\n",
    "    '''\n",
    "    Verifies column is an appropriate series\n",
    "    \n",
    "    Reindexes series to fit existing dataframe index with no loss.\n",
    "    \n",
    "    Goes up to index only - use with identical sized dataframe and pandas series\n",
    "    '''\n",
    "    check_column(series)\n",
    "    try:\n",
    "        assert(len(df) == len(series))\n",
    "        index_df = pd.DataFrame(df.index, index = np.arange(len(df.index)), columns = ['index'])\n",
    "        index_df['new'] = series\n",
    "        index_df = index_df.set_index('index')\n",
    "        return index_df\n",
    "    except:\n",
    "        print(\"Assertion Error! Different sized dataframe or column\")\n",
    "        pass\n",
    "    \n",
    "    \n",
    "    "
   ]
  },
  {
   "cell_type": "code",
   "execution_count": 203,
   "id": "02894f93",
   "metadata": {},
   "outputs": [
    {
     "data": {
      "text/plain": [
       "[{'_id': '53f45728dabfaec09f209538', 'name': 'Peijuan Wang'},\n",
       " {'_id': '5601754345cedb3395e59457', 'name': 'Jiahua Zhang'},\n",
       " {'_id': '53f38438dabfae4b34a08928', 'name': 'Donghui Xie'},\n",
       " {'_id': '5601754345cedb3395e5945a', 'name': 'Yanyan Xu'},\n",
       " {'_id': '53f43d25dabfaeecd6995149', 'name': 'Yun Xu'}]"
      ]
     },
     "execution_count": 203,
     "metadata": {},
     "output_type": "execute_result"
    }
   ],
   "source": [
    "temp = filter_journal.head(1000)\n",
    "temp.loc[2, 'authors']"
   ]
  },
  {
   "cell_type": "code",
   "execution_count": 392,
   "id": "b9056712",
   "metadata": {},
   "outputs": [
    {
     "name": "stderr",
     "output_type": "stream",
     "text": [
      "100%|██████████| 99967/99967 [00:05<00:00, 19234.76it/s]\n",
      "<ipython-input-389-511fadb850c0>:47: SettingWithCopyWarning: \n",
      "A value is trying to be set on a copy of a slice from a DataFrame.\n",
      "Try using .loc[row_indexer,col_indexer] = value instead\n",
      "\n",
      "See the caveats in the documentation: https://pandas.pydata.org/pandas-docs/stable/user_guide/indexing.html#returning-a-view-versus-a-copy\n",
      "  df[new_col] = temp_df\n"
     ]
    }
   ],
   "source": [
    "add_column(filter_journal, 'authors', 'last_author', key = 'name', last = True)"
   ]
  },
  {
   "cell_type": "code",
   "execution_count": 393,
   "id": "7863d185",
   "metadata": {},
   "outputs": [
    {
     "data": {
      "text/html": [
       "<div>\n",
       "<style scoped>\n",
       "    .dataframe tbody tr th:only-of-type {\n",
       "        vertical-align: middle;\n",
       "    }\n",
       "\n",
       "    .dataframe tbody tr th {\n",
       "        vertical-align: top;\n",
       "    }\n",
       "\n",
       "    .dataframe thead th {\n",
       "        text-align: right;\n",
       "    }\n",
       "</style>\n",
       "<table border=\"1\" class=\"dataframe\">\n",
       "  <thead>\n",
       "    <tr style=\"text-align: right;\">\n",
       "      <th></th>\n",
       "      <th>authors</th>\n",
       "      <th>first_author</th>\n",
       "      <th>last_author</th>\n",
       "    </tr>\n",
       "  </thead>\n",
       "  <tbody>\n",
       "    <tr>\n",
       "      <th>99996</th>\n",
       "      <td>[{'_id': '53f4cfe1dabfaeedd377d604', 'name': '...</td>\n",
       "      <td>Andrea Mannini</td>\n",
       "      <td>Angelo M. Sabatini</td>\n",
       "    </tr>\n",
       "    <tr>\n",
       "      <th>99997</th>\n",
       "      <td>[{'_id': '53f4337fdabfaedf435622c3', 'name': '...</td>\n",
       "      <td>Junxia Gu</td>\n",
       "      <td>Youshou Wu</td>\n",
       "    </tr>\n",
       "    <tr>\n",
       "      <th>99998</th>\n",
       "      <td>[{'_id': '53f45495dabfaee1c0b265ce', 'name': '...</td>\n",
       "      <td>J. Sznitman</td>\n",
       "      <td>T. Rösgen</td>\n",
       "    </tr>\n",
       "    <tr>\n",
       "      <th>99999</th>\n",
       "      <td>[{'_id': '53f46490dabfaeee22a4cc1a', 'name': '...</td>\n",
       "      <td>Ulrike Meier</td>\n",
       "      <td>Rudolf Eigenmann</td>\n",
       "    </tr>\n",
       "    <tr>\n",
       "      <th>100000</th>\n",
       "      <td>[{'gid': '5b86b160e1cd8e14a325b465', '_id': '5...</td>\n",
       "      <td>Darin Nelson</td>\n",
       "      <td>S. Muthukrishnan</td>\n",
       "    </tr>\n",
       "  </tbody>\n",
       "</table>\n",
       "</div>"
      ],
      "text/plain": [
       "                                                  authors    first_author  \\\n",
       "99996   [{'_id': '53f4cfe1dabfaeedd377d604', 'name': '...  Andrea Mannini   \n",
       "99997   [{'_id': '53f4337fdabfaedf435622c3', 'name': '...       Junxia Gu   \n",
       "99998   [{'_id': '53f45495dabfaee1c0b265ce', 'name': '...     J. Sznitman   \n",
       "99999   [{'_id': '53f46490dabfaeee22a4cc1a', 'name': '...    Ulrike Meier   \n",
       "100000  [{'gid': '5b86b160e1cd8e14a325b465', '_id': '5...    Darin Nelson   \n",
       "\n",
       "               last_author  \n",
       "99996   Angelo M. Sabatini  \n",
       "99997           Youshou Wu  \n",
       "99998            T. Rösgen  \n",
       "99999     Rudolf Eigenmann  \n",
       "100000    S. Muthukrishnan  "
      ]
     },
     "execution_count": 393,
     "metadata": {},
     "output_type": "execute_result"
    }
   ],
   "source": [
    "filter_journal[['authors', 'first_author', 'last_author']].tail(5)"
   ]
  },
  {
   "cell_type": "code",
   "execution_count": 394,
   "id": "1e23e284",
   "metadata": {},
   "outputs": [
    {
     "data": {
      "text/plain": [
       "({'_id': '53f43211dabfaeb2ac02596f',\n",
       "  'name': 'S. Muthukrishnan',\n",
       "  'org': 'AT&T Labs -- Research, 180 Park Avenue., Florham Park, NJ',\n",
       "  'gid': '5b868e2be1cd8e14a33dc5d3',\n",
       "  'orgid': '5f71b34b1c455f439fe41dca'},\n",
       " 'S. Muthukrishnan')"
      ]
     },
     "execution_count": 394,
     "metadata": {},
     "output_type": "execute_result"
    }
   ],
   "source": [
    "filter_journal.loc[100000]['authors'][-1],  filter_journal.loc[100000].last_author"
   ]
  },
  {
   "cell_type": "code",
   "execution_count": 395,
   "id": "05f8dbd8",
   "metadata": {},
   "outputs": [
    {
     "data": {
      "text/plain": [
       "Index(['_id', 'title', 'authors', 'venue', 'year', 'keywords', 'n_citation',\n",
       "       'page_start', 'lang', 'volume', 'issue', 'doi', 'url', 'abstract',\n",
       "       'first_author', 'last_author'],\n",
       "      dtype='object')"
      ]
     },
     "execution_count": 395,
     "metadata": {},
     "output_type": "execute_result"
    }
   ],
   "source": [
    "filter_journal.keys()"
   ]
  },
  {
   "cell_type": "code",
   "execution_count": 494,
   "id": "0766f88f",
   "metadata": {},
   "outputs": [
    {
     "name": "stderr",
     "output_type": "stream",
     "text": [
      "<ipython-input-494-334bc858ab04>:2: SettingWithCopyWarning: \n",
      "A value is trying to be set on a copy of a slice from a DataFrame.\n",
      "Try using .loc[row_indexer,col_indexer] = value instead\n",
      "\n",
      "See the caveats in the documentation: https://pandas.pydata.org/pandas-docs/stable/user_guide/indexing.html#returning-a-view-versus-a-copy\n",
      "  filter_journal['n_keywords'] = filter_journal.keywords.str.len()\n",
      "<ipython-input-494-334bc858ab04>:3: SettingWithCopyWarning: \n",
      "A value is trying to be set on a copy of a slice from a DataFrame.\n",
      "Try using .loc[row_indexer,col_indexer] = value instead\n",
      "\n",
      "See the caveats in the documentation: https://pandas.pydata.org/pandas-docs/stable/user_guide/indexing.html#returning-a-view-versus-a-copy\n",
      "  filter_journal['abstract_length'] = filter_journal.abstract.str.len()\n",
      "<ipython-input-494-334bc858ab04>:4: SettingWithCopyWarning: \n",
      "A value is trying to be set on a copy of a slice from a DataFrame.\n",
      "Try using .loc[row_indexer,col_indexer] = value instead\n",
      "\n",
      "See the caveats in the documentation: https://pandas.pydata.org/pandas-docs/stable/user_guide/indexing.html#returning-a-view-versus-a-copy\n",
      "  filter_journal['n_authors'] = filter_journal.authors.str.len()\n",
      "<ipython-input-494-334bc858ab04>:5: SettingWithCopyWarning: \n",
      "A value is trying to be set on a copy of a slice from a DataFrame.\n",
      "Try using .loc[row_indexer,col_indexer] = value instead\n",
      "\n",
      "See the caveats in the documentation: https://pandas.pydata.org/pandas-docs/stable/user_guide/indexing.html#returning-a-view-versus-a-copy\n",
      "  filter_journal['n_url'] = filter_journal.url.str.len()\n"
     ]
    }
   ],
   "source": [
    "#Counting the number of keywords, authors, urls, etc \n",
    "filter_journal['n_keywords'] = filter_journal.keywords.str.len()\n",
    "filter_journal['abstract_length'] = filter_journal.abstract.str.len()\n",
    "filter_journal['n_authors'] = filter_journal.authors.str.len()\n",
    "filter_journal['n_url'] = filter_journal.url.str.len()"
   ]
  },
  {
   "cell_type": "code",
   "execution_count": 495,
   "id": "effbf005",
   "metadata": {},
   "outputs": [
    {
     "data": {
      "text/html": [
       "<div>\n",
       "<style scoped>\n",
       "    .dataframe tbody tr th:only-of-type {\n",
       "        vertical-align: middle;\n",
       "    }\n",
       "\n",
       "    .dataframe tbody tr th {\n",
       "        vertical-align: top;\n",
       "    }\n",
       "\n",
       "    .dataframe thead th {\n",
       "        text-align: right;\n",
       "    }\n",
       "</style>\n",
       "<table border=\"1\" class=\"dataframe\">\n",
       "  <thead>\n",
       "    <tr style=\"text-align: right;\">\n",
       "      <th></th>\n",
       "      <th>_id</th>\n",
       "      <th>title</th>\n",
       "      <th>authors</th>\n",
       "      <th>venue</th>\n",
       "      <th>year</th>\n",
       "      <th>keywords</th>\n",
       "      <th>n_citation</th>\n",
       "      <th>page_start</th>\n",
       "      <th>lang</th>\n",
       "      <th>volume</th>\n",
       "      <th>...</th>\n",
       "      <th>doi</th>\n",
       "      <th>url</th>\n",
       "      <th>abstract</th>\n",
       "      <th>first_author</th>\n",
       "      <th>last_author</th>\n",
       "      <th>venue_name</th>\n",
       "      <th>n_keywords</th>\n",
       "      <th>abstract_length</th>\n",
       "      <th>n_authors</th>\n",
       "      <th>n_url</th>\n",
       "    </tr>\n",
       "  </thead>\n",
       "  <tbody>\n",
       "    <tr>\n",
       "      <th>0</th>\n",
       "      <td>{'$oid': '53e99784b7602d9701f3e3f4'}</td>\n",
       "      <td>360degree</td>\n",
       "      <td>[{'_id': {'$oid': '53f46946dabfaec09f24b4ed'},...</td>\n",
       "      <td>{'_id': {'$oid': '53a72b2d20f7420be8c1c5a8'}, ...</td>\n",
       "      <td>2009.0</td>\n",
       "      <td>[]</td>\n",
       "      <td>0.0</td>\n",
       "      <td>39</td>\n",
       "      <td>en</td>\n",
       "      <td></td>\n",
       "      <td>...</td>\n",
       "      <td>10.1145/1665137.1665166</td>\n",
       "      <td>[http://doi.acm.org/10.1145/1665137.1665166, d...</td>\n",
       "      <td></td>\n",
       "      <td>Miguel Palma</td>\n",
       "      <td>Miguel Palma</td>\n",
       "      <td>SIGGRAPH ASIA Art Gallery &amp; Emerging Technologies</td>\n",
       "      <td>0.0</td>\n",
       "      <td>0.0</td>\n",
       "      <td>1.0</td>\n",
       "      <td>3.0</td>\n",
       "    </tr>\n",
       "    <tr>\n",
       "      <th>1</th>\n",
       "      <td>53e99784b7602d9701f3e3f5</td>\n",
       "      <td>3GIO.</td>\n",
       "      <td>NaN</td>\n",
       "      <td>{'type': 0}</td>\n",
       "      <td>2011.0</td>\n",
       "      <td>[]</td>\n",
       "      <td>0.0</td>\n",
       "      <td>NaN</td>\n",
       "      <td>en</td>\n",
       "      <td>NaN</td>\n",
       "      <td>...</td>\n",
       "      <td>NaN</td>\n",
       "      <td>NaN</td>\n",
       "      <td>NaN</td>\n",
       "      <td>NaN</td>\n",
       "      <td>NaN</td>\n",
       "      <td>NaN</td>\n",
       "      <td>0.0</td>\n",
       "      <td>NaN</td>\n",
       "      <td>NaN</td>\n",
       "      <td>NaN</td>\n",
       "    </tr>\n",
       "    <tr>\n",
       "      <th>2</th>\n",
       "      <td>53e99784b7602d9701f3e133</td>\n",
       "      <td>The relationship between canopy parameters and...</td>\n",
       "      <td>[{'_id': '53f45728dabfaec09f209538', 'name': '...</td>\n",
       "      <td>{'_id': '53a7297d20f7420be8bd4ae7', 'name_d': ...</td>\n",
       "      <td>2011.0</td>\n",
       "      <td>[canopy parameters, canopy spectrum, different...</td>\n",
       "      <td>0.0</td>\n",
       "      <td>1930</td>\n",
       "      <td>en</td>\n",
       "      <td>null</td>\n",
       "      <td>...</td>\n",
       "      <td>10.1109/IGARSS.2011.6049503</td>\n",
       "      <td>[http://dx.doi.org/10.1109/IGARSS.2011.6049503]</td>\n",
       "      <td>Drought is the first place in all the natural ...</td>\n",
       "      <td>Peijuan Wang</td>\n",
       "      <td>Yun Xu</td>\n",
       "      <td>IGARSS</td>\n",
       "      <td>17.0</td>\n",
       "      <td>1553.0</td>\n",
       "      <td>5.0</td>\n",
       "      <td>1.0</td>\n",
       "    </tr>\n",
       "    <tr>\n",
       "      <th>3</th>\n",
       "      <td>53e99784b7602d9701f3e151</td>\n",
       "      <td>A solution to the problem of touching and brok...</td>\n",
       "      <td>[{'_id': '53f46797dabfaeb22f542630', 'name': '...</td>\n",
       "      <td>{'_id': '53a72a4920f7420be8bfa51b', 'name_d': ...</td>\n",
       "      <td>1993.0</td>\n",
       "      <td>[handwriting recognition, prototypes, image se...</td>\n",
       "      <td>17.0</td>\n",
       "      <td>602</td>\n",
       "      <td>en</td>\n",
       "      <td></td>\n",
       "      <td>...</td>\n",
       "      <td>10.1109/ICDAR.1993.395663</td>\n",
       "      <td>[http://dx.doi.org/10.1109/ICDAR.1993.395663]</td>\n",
       "      <td></td>\n",
       "      <td>Jairo Rocha</td>\n",
       "      <td>Theo Pavlidis</td>\n",
       "      <td>ICDAR-1</td>\n",
       "      <td>11.0</td>\n",
       "      <td>0.0</td>\n",
       "      <td>2.0</td>\n",
       "      <td>1.0</td>\n",
       "    </tr>\n",
       "    <tr>\n",
       "      <th>4</th>\n",
       "      <td>53e99784b7602d9701f3e15d</td>\n",
       "      <td>Timing yield estimation using statistical stat...</td>\n",
       "      <td>[{'_id': '53f43b03dabfaedce555bf2a', 'name': '...</td>\n",
       "      <td>{'_id': '53a72e2020f7420be8c80142', 'name_d': ...</td>\n",
       "      <td>2005.0</td>\n",
       "      <td>[sequential circuits, statistical distribution...</td>\n",
       "      <td>28.0</td>\n",
       "      <td>2461</td>\n",
       "      <td>en</td>\n",
       "      <td></td>\n",
       "      <td>...</td>\n",
       "      <td>10.1109/ISCAS.2005.1465124</td>\n",
       "      <td>[http://dx.doi.org/10.1109/ISCAS.2005.1465124,...</td>\n",
       "      <td>As process variations become a significant pro...</td>\n",
       "      <td>Min Pan</td>\n",
       "      <td>Hai Zhou</td>\n",
       "      <td>ISCAS (3)</td>\n",
       "      <td>33.0</td>\n",
       "      <td>1106.0</td>\n",
       "      <td>3.0</td>\n",
       "      <td>2.0</td>\n",
       "    </tr>\n",
       "    <tr>\n",
       "      <th>...</th>\n",
       "      <td>...</td>\n",
       "      <td>...</td>\n",
       "      <td>...</td>\n",
       "      <td>...</td>\n",
       "      <td>...</td>\n",
       "      <td>...</td>\n",
       "      <td>...</td>\n",
       "      <td>...</td>\n",
       "      <td>...</td>\n",
       "      <td>...</td>\n",
       "      <td>...</td>\n",
       "      <td>...</td>\n",
       "      <td>...</td>\n",
       "      <td>...</td>\n",
       "      <td>...</td>\n",
       "      <td>...</td>\n",
       "      <td>...</td>\n",
       "      <td>...</td>\n",
       "      <td>...</td>\n",
       "      <td>...</td>\n",
       "      <td>...</td>\n",
       "    </tr>\n",
       "    <tr>\n",
       "      <th>99996</th>\n",
       "      <td>53e998efb7602d9702129fbc</td>\n",
       "      <td>Classification of Human Physical Activities fr...</td>\n",
       "      <td>[{'_id': '53f4cfe1dabfaeedd377d604', 'name': '...</td>\n",
       "      <td>{'sid': 'BIOSIGNALS 2011', 't': 'J', 'raw': 'B...</td>\n",
       "      <td>2011.0</td>\n",
       "      <td>[Human activity classification, Statistical pa...</td>\n",
       "      <td>1.0</td>\n",
       "      <td>201</td>\n",
       "      <td>en</td>\n",
       "      <td></td>\n",
       "      <td>...</td>\n",
       "      <td></td>\n",
       "      <td>NaN</td>\n",
       "      <td>Several applications demanding the development...</td>\n",
       "      <td>Andrea Mannini</td>\n",
       "      <td>Angelo M. Sabatini</td>\n",
       "      <td>BIOSIGNALS 2011</td>\n",
       "      <td>6.0</td>\n",
       "      <td>1431.0</td>\n",
       "      <td>2.0</td>\n",
       "      <td>NaN</td>\n",
       "    </tr>\n",
       "    <tr>\n",
       "      <th>99997</th>\n",
       "      <td>53e998efb7602d9702129e44</td>\n",
       "      <td>Full body tracking-based human action recognition</td>\n",
       "      <td>[{'_id': '53f4337fdabfaedf435622c3', 'name': '...</td>\n",
       "      <td>{'_id': '555037617cea80f95418423f', 'name_d': ...</td>\n",
       "      <td>2008.0</td>\n",
       "      <td>[particle filter, tracking, hidden markov mode...</td>\n",
       "      <td>12.0</td>\n",
       "      <td>1</td>\n",
       "      <td>en</td>\n",
       "      <td></td>\n",
       "      <td>...</td>\n",
       "      <td>10.1109/ICPR.2008.4761198</td>\n",
       "      <td>[http://dx.doi.org/10.1109/ICPR.2008.4761198]</td>\n",
       "      <td></td>\n",
       "      <td>Junxia Gu</td>\n",
       "      <td>Youshou Wu</td>\n",
       "      <td>ICPR</td>\n",
       "      <td>8.0</td>\n",
       "      <td>0.0</td>\n",
       "      <td>4.0</td>\n",
       "      <td>1.0</td>\n",
       "    </tr>\n",
       "    <tr>\n",
       "      <th>99998</th>\n",
       "      <td>53e998efb7602d9702129fcf</td>\n",
       "      <td>Optical density visualization and abel reconst...</td>\n",
       "      <td>[{'_id': '53f45495dabfaee1c0b265ce', 'name': '...</td>\n",
       "      <td>{'_id': '555036b57cea80f95414abed', 'type': 0,...</td>\n",
       "      <td>2007.0</td>\n",
       "      <td>[optical density, vortex ring]</td>\n",
       "      <td>14.0</td>\n",
       "      <td>5</td>\n",
       "      <td>en</td>\n",
       "      <td>10</td>\n",
       "      <td>...</td>\n",
       "      <td>10.1007/BF03181789</td>\n",
       "      <td>[http://dx.doi.org/10.1007/BF03181789, https:/...</td>\n",
       "      <td></td>\n",
       "      <td>J. Sznitman</td>\n",
       "      <td>T. Rösgen</td>\n",
       "      <td>J. Visualization</td>\n",
       "      <td>2.0</td>\n",
       "      <td>0.0</td>\n",
       "      <td>2.0</td>\n",
       "      <td>3.0</td>\n",
       "    </tr>\n",
       "    <tr>\n",
       "      <th>99999</th>\n",
       "      <td>53e998efb7602d9702129e49</td>\n",
       "      <td>Parallelization and performance of Conjugate G...</td>\n",
       "      <td>[{'_id': '53f46490dabfaeee22a4cc1a', 'name': '...</td>\n",
       "      <td>{'_id': '572df208d39c4f5d7aace19d', 'type': 1,...</td>\n",
       "      <td>1991.0</td>\n",
       "      <td>[conjugate gradient algorithm, cedar hierarchi...</td>\n",
       "      <td>15.0</td>\n",
       "      <td>178</td>\n",
       "      <td>en</td>\n",
       "      <td>26</td>\n",
       "      <td>...</td>\n",
       "      <td>10.1145/109626.109644</td>\n",
       "      <td>[http://dx.doi.org/10.1145/109626.109644, http...</td>\n",
       "      <td>We analyze the computational structure of the ...</td>\n",
       "      <td>Ulrike Meier</td>\n",
       "      <td>Rudolf Eigenmann</td>\n",
       "      <td>acm sigplan symposium on principles and practi...</td>\n",
       "      <td>7.0</td>\n",
       "      <td>498.0</td>\n",
       "      <td>2.0</td>\n",
       "      <td>5.0</td>\n",
       "    </tr>\n",
       "    <tr>\n",
       "      <th>100000</th>\n",
       "      <td>53e998efb7602d9702129c8e</td>\n",
       "      <td>Design issues in multimedia messaging for next...</td>\n",
       "      <td>[{'gid': '5b86b160e1cd8e14a325b465', '_id': '5...</td>\n",
       "      <td>{'_id': '53a725bb20f7420be8b57a1b', 'name_d': ...</td>\n",
       "      <td>2001.0</td>\n",
       "      <td>[two-way text, wireless telecommunication syst...</td>\n",
       "      <td>7.0</td>\n",
       "      <td>98</td>\n",
       "      <td>en</td>\n",
       "      <td></td>\n",
       "      <td>...</td>\n",
       "      <td>10.1145/376868.376916</td>\n",
       "      <td>[http://dx.doi.org/10.1145/376868.376916, http...</td>\n",
       "      <td>Current wireless systems allow simple messagin...</td>\n",
       "      <td>Darin Nelson</td>\n",
       "      <td>S. Muthukrishnan</td>\n",
       "      <td>MobiDE</td>\n",
       "      <td>15.0</td>\n",
       "      <td>786.0</td>\n",
       "      <td>2.0</td>\n",
       "      <td>2.0</td>\n",
       "    </tr>\n",
       "  </tbody>\n",
       "</table>\n",
       "<p>99967 rows × 21 columns</p>\n",
       "</div>"
      ],
      "text/plain": [
       "                                         _id  \\\n",
       "0       {'$oid': '53e99784b7602d9701f3e3f4'}   \n",
       "1                   53e99784b7602d9701f3e3f5   \n",
       "2                   53e99784b7602d9701f3e133   \n",
       "3                   53e99784b7602d9701f3e151   \n",
       "4                   53e99784b7602d9701f3e15d   \n",
       "...                                      ...   \n",
       "99996               53e998efb7602d9702129fbc   \n",
       "99997               53e998efb7602d9702129e44   \n",
       "99998               53e998efb7602d9702129fcf   \n",
       "99999               53e998efb7602d9702129e49   \n",
       "100000              53e998efb7602d9702129c8e   \n",
       "\n",
       "                                                    title  \\\n",
       "0                                               360degree   \n",
       "1                                                   3GIO.   \n",
       "2       The relationship between canopy parameters and...   \n",
       "3       A solution to the problem of touching and brok...   \n",
       "4       Timing yield estimation using statistical stat...   \n",
       "...                                                   ...   \n",
       "99996   Classification of Human Physical Activities fr...   \n",
       "99997   Full body tracking-based human action recognition   \n",
       "99998   Optical density visualization and abel reconst...   \n",
       "99999   Parallelization and performance of Conjugate G...   \n",
       "100000  Design issues in multimedia messaging for next...   \n",
       "\n",
       "                                                  authors  \\\n",
       "0       [{'_id': {'$oid': '53f46946dabfaec09f24b4ed'},...   \n",
       "1                                                     NaN   \n",
       "2       [{'_id': '53f45728dabfaec09f209538', 'name': '...   \n",
       "3       [{'_id': '53f46797dabfaeb22f542630', 'name': '...   \n",
       "4       [{'_id': '53f43b03dabfaedce555bf2a', 'name': '...   \n",
       "...                                                   ...   \n",
       "99996   [{'_id': '53f4cfe1dabfaeedd377d604', 'name': '...   \n",
       "99997   [{'_id': '53f4337fdabfaedf435622c3', 'name': '...   \n",
       "99998   [{'_id': '53f45495dabfaee1c0b265ce', 'name': '...   \n",
       "99999   [{'_id': '53f46490dabfaeee22a4cc1a', 'name': '...   \n",
       "100000  [{'gid': '5b86b160e1cd8e14a325b465', '_id': '5...   \n",
       "\n",
       "                                                    venue    year  \\\n",
       "0       {'_id': {'$oid': '53a72b2d20f7420be8c1c5a8'}, ...  2009.0   \n",
       "1                                             {'type': 0}  2011.0   \n",
       "2       {'_id': '53a7297d20f7420be8bd4ae7', 'name_d': ...  2011.0   \n",
       "3       {'_id': '53a72a4920f7420be8bfa51b', 'name_d': ...  1993.0   \n",
       "4       {'_id': '53a72e2020f7420be8c80142', 'name_d': ...  2005.0   \n",
       "...                                                   ...     ...   \n",
       "99996   {'sid': 'BIOSIGNALS 2011', 't': 'J', 'raw': 'B...  2011.0   \n",
       "99997   {'_id': '555037617cea80f95418423f', 'name_d': ...  2008.0   \n",
       "99998   {'_id': '555036b57cea80f95414abed', 'type': 0,...  2007.0   \n",
       "99999   {'_id': '572df208d39c4f5d7aace19d', 'type': 1,...  1991.0   \n",
       "100000  {'_id': '53a725bb20f7420be8b57a1b', 'name_d': ...  2001.0   \n",
       "\n",
       "                                                 keywords  n_citation  \\\n",
       "0                                                      []         0.0   \n",
       "1                                                      []         0.0   \n",
       "2       [canopy parameters, canopy spectrum, different...         0.0   \n",
       "3       [handwriting recognition, prototypes, image se...        17.0   \n",
       "4       [sequential circuits, statistical distribution...        28.0   \n",
       "...                                                   ...         ...   \n",
       "99996   [Human activity classification, Statistical pa...         1.0   \n",
       "99997   [particle filter, tracking, hidden markov mode...        12.0   \n",
       "99998                      [optical density, vortex ring]        14.0   \n",
       "99999   [conjugate gradient algorithm, cedar hierarchi...        15.0   \n",
       "100000  [two-way text, wireless telecommunication syst...         7.0   \n",
       "\n",
       "       page_start lang volume  ...                          doi  \\\n",
       "0              39   en         ...      10.1145/1665137.1665166   \n",
       "1             NaN   en    NaN  ...                          NaN   \n",
       "2            1930   en   null  ...  10.1109/IGARSS.2011.6049503   \n",
       "3             602   en         ...    10.1109/ICDAR.1993.395663   \n",
       "4            2461   en         ...   10.1109/ISCAS.2005.1465124   \n",
       "...           ...  ...    ...  ...                          ...   \n",
       "99996         201   en         ...                                \n",
       "99997           1   en         ...    10.1109/ICPR.2008.4761198   \n",
       "99998           5   en     10  ...           10.1007/BF03181789   \n",
       "99999         178   en     26  ...        10.1145/109626.109644   \n",
       "100000         98   en         ...        10.1145/376868.376916   \n",
       "\n",
       "                                                      url  \\\n",
       "0       [http://doi.acm.org/10.1145/1665137.1665166, d...   \n",
       "1                                                     NaN   \n",
       "2         [http://dx.doi.org/10.1109/IGARSS.2011.6049503]   \n",
       "3           [http://dx.doi.org/10.1109/ICDAR.1993.395663]   \n",
       "4       [http://dx.doi.org/10.1109/ISCAS.2005.1465124,...   \n",
       "...                                                   ...   \n",
       "99996                                                 NaN   \n",
       "99997       [http://dx.doi.org/10.1109/ICPR.2008.4761198]   \n",
       "99998   [http://dx.doi.org/10.1007/BF03181789, https:/...   \n",
       "99999   [http://dx.doi.org/10.1145/109626.109644, http...   \n",
       "100000  [http://dx.doi.org/10.1145/376868.376916, http...   \n",
       "\n",
       "                                                 abstract    first_author  \\\n",
       "0                                                            Miguel Palma   \n",
       "1                                                     NaN             NaN   \n",
       "2       Drought is the first place in all the natural ...    Peijuan Wang   \n",
       "3                                                             Jairo Rocha   \n",
       "4       As process variations become a significant pro...         Min Pan   \n",
       "...                                                   ...             ...   \n",
       "99996   Several applications demanding the development...  Andrea Mannini   \n",
       "99997                                                           Junxia Gu   \n",
       "99998                                                         J. Sznitman   \n",
       "99999   We analyze the computational structure of the ...    Ulrike Meier   \n",
       "100000  Current wireless systems allow simple messagin...    Darin Nelson   \n",
       "\n",
       "               last_author                                         venue_name  \\\n",
       "0             Miguel Palma  SIGGRAPH ASIA Art Gallery & Emerging Technologies   \n",
       "1                      NaN                                                NaN   \n",
       "2                   Yun Xu                                             IGARSS   \n",
       "3            Theo Pavlidis                                            ICDAR-1   \n",
       "4                 Hai Zhou                                          ISCAS (3)   \n",
       "...                    ...                                                ...   \n",
       "99996   Angelo M. Sabatini                                    BIOSIGNALS 2011   \n",
       "99997           Youshou Wu                                               ICPR   \n",
       "99998            T. Rösgen                                   J. Visualization   \n",
       "99999     Rudolf Eigenmann  acm sigplan symposium on principles and practi...   \n",
       "100000    S. Muthukrishnan                                             MobiDE   \n",
       "\n",
       "       n_keywords  abstract_length  n_authors  n_url  \n",
       "0             0.0              0.0        1.0    3.0  \n",
       "1             0.0              NaN        NaN    NaN  \n",
       "2            17.0           1553.0        5.0    1.0  \n",
       "3            11.0              0.0        2.0    1.0  \n",
       "4            33.0           1106.0        3.0    2.0  \n",
       "...           ...              ...        ...    ...  \n",
       "99996         6.0           1431.0        2.0    NaN  \n",
       "99997         8.0              0.0        4.0    1.0  \n",
       "99998         2.0              0.0        2.0    3.0  \n",
       "99999         7.0            498.0        2.0    5.0  \n",
       "100000       15.0            786.0        2.0    2.0  \n",
       "\n",
       "[99967 rows x 21 columns]"
      ]
     },
     "execution_count": 495,
     "metadata": {},
     "output_type": "execute_result"
    }
   ],
   "source": [
    "filter_journal"
   ]
  },
  {
   "cell_type": "code",
   "execution_count": null,
   "id": "3a7eda4e",
   "metadata": {},
   "outputs": [],
   "source": []
  }
 ],
 "metadata": {
  "kernelspec": {
   "display_name": "Python 3",
   "language": "python",
   "name": "python3"
  },
  "language_info": {
   "codemirror_mode": {
    "name": "ipython",
    "version": 3
   },
   "file_extension": ".py",
   "mimetype": "text/x-python",
   "name": "python",
   "nbconvert_exporter": "python",
   "pygments_lexer": "ipython3",
   "version": "3.8.10"
  }
 },
 "nbformat": 4,
 "nbformat_minor": 5
}
